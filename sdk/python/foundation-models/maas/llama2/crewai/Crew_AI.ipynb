{
  "cells": [
    {
      "cell_type": "code",
      "source": [
        "%pip install crewai"
      ],
      "outputs": [],
      "execution_count": null,
      "metadata": {}
    },
    {
      "cell_type": "code",
      "source": [
        "%pip install 'crewai[tools]'"
      ],
      "outputs": [],
      "execution_count": null,
      "metadata": {
        "jupyter": {
          "source_hidden": false,
          "outputs_hidden": false
        },
        "nteract": {
          "transient": {
            "deleting": false
          }
        }
      }
    },
    {
      "cell_type": "code",
      "source": [
        "from crewai import Agent\n",
        "from crewai import Agent, Task\n",
        "from crewai import Crew, Process\n",
        "from langchain_openai import OpenAI\n",
        "from langchain_openai import ChatOpenAI\n",
        "\n",
        "\n",
        "load_dotenv(\"config.env\")\n",
        "\n",
        "azure_llm = ChatOpenAI(\n",
        "    openai_api_base=\"model_endpoint_url\",\n",
        "    openai_api_key=\"api_key\")                 \n",
        "\n",
        "\n",
        "\n",
        "researcher = Agent(\n",
        "  role='Senior Researcher',\n",
        "  goal='Discover groundbreaking technologies',\n",
        "  verbose=True,\n",
        "  llm=azure_llm,\n",
        "  backstory='A curious mind fascinated by cutting-edge innovation and the potential to change the world, you know everything about tech.'\n",
        ")\n",
        "research_task = Task(\n",
        "  description='Identify the next big trend in AI',\n",
        "  expected_output=\"Full analysis report in bullet points\",\n",
        "  agent=researcher  # Assigning the task to the researcher\n",
        ")\n",
        "\n",
        "tech_crew = Crew(\n",
        "  agents=[researcher],\n",
        "  tasks=[research_task],\n",
        "  process=Process.sequential  # Tasks will be executed one after the other\n",
        ")\n",
        "\n",
        "# Begin the task execution\n",
        "tech_crew.kickoff()"
      ],
      "outputs": [],
      "execution_count": null,
      "metadata": {
        "jupyter": {
          "source_hidden": false,
          "outputs_hidden": false
        },
        "nteract": {
          "transient": {
            "deleting": false
          }
        }
      }
    }
  ],
  "metadata": {
    "kernelspec": {
      "display_name": "Python 3.10 - SDK v2",
      "language": "python",
      "name": "python310-sdkv2"
    },
    "language_info": {
      "codemirror_mode": {
        "name": "ipython",
        "version": 3
      },
      "file_extension": ".py",
      "mimetype": "text/x-python",
      "name": "python",
      "nbconvert_exporter": "python",
      "pygments_lexer": "ipython3",
      "version": "3.10.6"
    },
    "microsoft": {
      "ms_spell_check": {
        "ms_spell_check_language": "en"
      }
    },
    "nteract": {
      "version": "nteract-front-end@1.0.0"
    }
  },
  "nbformat": 4,
  "nbformat_minor": 2
}