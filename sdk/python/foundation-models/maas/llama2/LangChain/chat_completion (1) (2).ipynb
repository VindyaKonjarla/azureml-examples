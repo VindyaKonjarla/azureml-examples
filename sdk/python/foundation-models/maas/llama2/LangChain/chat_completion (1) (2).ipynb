{
 "cells": [
  {
   "cell_type": "code",
   "execution_count": 1,
   "id": "930ffe45-4372-4784-8bd2-1475c6f6e9ee",
   "metadata": {
    "jupyter": {
     "outputs_hidden": true,
     "source_hidden": false
    },
    "nteract": {
     "transient": {
      "deleting": false
     }
    }
   },
   "outputs": [
    {
     "name": "stdout",
     "output_type": "stream",
     "text": [
      "Requirement already satisfied: langchain in /anaconda/envs/jupyter_env/lib/python3.8/site-packages (0.1.6)\n",
      "Requirement already satisfied: SQLAlchemy<3,>=1.4 in /anaconda/envs/jupyter_env/lib/python3.8/site-packages (from langchain) (2.0.26)\n",
      "Requirement already satisfied: aiohttp<4.0.0,>=3.8.3 in /anaconda/envs/jupyter_env/lib/python3.8/site-packages (from langchain) (3.8.4)\n",
      "Requirement already satisfied: PyYAML>=5.3 in /anaconda/envs/jupyter_env/lib/python3.8/site-packages (from langchain) (6.0)\n",
      "Requirement already satisfied: async-timeout<5.0.0,>=4.0.0 in /anaconda/envs/jupyter_env/lib/python3.8/site-packages (from langchain) (4.0.2)\n",
      "Requirement already satisfied: langchain-core<0.2,>=0.1.22 in /anaconda/envs/jupyter_env/lib/python3.8/site-packages (from langchain) (0.1.22)\n",
      "Requirement already satisfied: requests<3,>=2 in /anaconda/envs/jupyter_env/lib/python3.8/site-packages (from langchain) (2.31.0)\n",
      "Requirement already satisfied: numpy<2,>=1 in /anaconda/envs/jupyter_env/lib/python3.8/site-packages (from langchain) (1.24.3)\n",
      "Requirement already satisfied: tenacity<9.0.0,>=8.1.0 in /anaconda/envs/jupyter_env/lib/python3.8/site-packages (from langchain) (8.2.3)\n",
      "Requirement already satisfied: jsonpatch<2.0,>=1.33 in /anaconda/envs/jupyter_env/lib/python3.8/site-packages (from langchain) (1.33)\n",
      "Requirement already satisfied: pydantic<3,>=1 in /anaconda/envs/jupyter_env/lib/python3.8/site-packages (from langchain) (1.10.9)\n",
      "Requirement already satisfied: dataclasses-json<0.7,>=0.5.7 in /anaconda/envs/jupyter_env/lib/python3.8/site-packages (from langchain) (0.6.4)\n",
      "Requirement already satisfied: langsmith<0.1,>=0.0.83 in /anaconda/envs/jupyter_env/lib/python3.8/site-packages (from langchain) (0.0.87)\n",
      "Requirement already satisfied: langchain-community<0.1,>=0.0.18 in /anaconda/envs/jupyter_env/lib/python3.8/site-packages (from langchain) (0.0.19)\n",
      "Requirement already satisfied: multidict<7.0,>=4.5 in /anaconda/envs/jupyter_env/lib/python3.8/site-packages (from aiohttp<4.0.0,>=3.8.3->langchain) (6.0.4)\n",
      "Requirement already satisfied: aiosignal>=1.1.2 in /anaconda/envs/jupyter_env/lib/python3.8/site-packages (from aiohttp<4.0.0,>=3.8.3->langchain) (1.3.1)\n",
      "Requirement already satisfied: attrs>=17.3.0 in /anaconda/envs/jupyter_env/lib/python3.8/site-packages (from aiohttp<4.0.0,>=3.8.3->langchain) (23.1.0)\n",
      "Requirement already satisfied: frozenlist>=1.1.1 in /anaconda/envs/jupyter_env/lib/python3.8/site-packages (from aiohttp<4.0.0,>=3.8.3->langchain) (1.3.3)\n",
      "Requirement already satisfied: yarl<2.0,>=1.0 in /anaconda/envs/jupyter_env/lib/python3.8/site-packages (from aiohttp<4.0.0,>=3.8.3->langchain) (1.9.2)\n",
      "Requirement already satisfied: charset-normalizer<4.0,>=2.0 in /anaconda/envs/jupyter_env/lib/python3.8/site-packages (from aiohttp<4.0.0,>=3.8.3->langchain) (3.1.0)\n",
      "Requirement already satisfied: typing-inspect<1,>=0.4.0 in /anaconda/envs/jupyter_env/lib/python3.8/site-packages (from dataclasses-json<0.7,>=0.5.7->langchain) (0.9.0)\n",
      "Requirement already satisfied: marshmallow<4.0.0,>=3.18.0 in /anaconda/envs/jupyter_env/lib/python3.8/site-packages (from dataclasses-json<0.7,>=0.5.7->langchain) (3.20.2)\n",
      "Requirement already satisfied: jsonpointer>=1.9 in /anaconda/envs/jupyter_env/lib/python3.8/site-packages (from jsonpatch<2.0,>=1.33->langchain) (2.4)\n",
      "Requirement already satisfied: anyio<5,>=3 in /anaconda/envs/jupyter_env/lib/python3.8/site-packages (from langchain-core<0.2,>=0.1.22->langchain) (3.7.0)\n",
      "Requirement already satisfied: packaging<24.0,>=23.2 in /anaconda/envs/jupyter_env/lib/python3.8/site-packages (from langchain-core<0.2,>=0.1.22->langchain) (23.2)\n",
      "Requirement already satisfied: typing-extensions>=4.2.0 in /anaconda/envs/jupyter_env/lib/python3.8/site-packages (from pydantic<3,>=1->langchain) (4.6.3)\n",
      "Requirement already satisfied: idna<4,>=2.5 in /anaconda/envs/jupyter_env/lib/python3.8/site-packages (from requests<3,>=2->langchain) (3.4)\n",
      "Requirement already satisfied: urllib3<3,>=1.21.1 in /anaconda/envs/jupyter_env/lib/python3.8/site-packages (from requests<3,>=2->langchain) (1.26.16)\n",
      "Requirement already satisfied: certifi>=2017.4.17 in /anaconda/envs/jupyter_env/lib/python3.8/site-packages (from requests<3,>=2->langchain) (2023.5.7)\n",
      "Requirement already satisfied: greenlet!=0.4.17 in /anaconda/envs/jupyter_env/lib/python3.8/site-packages (from SQLAlchemy<3,>=1.4->langchain) (3.0.3)\n",
      "Requirement already satisfied: sniffio>=1.1 in /anaconda/envs/jupyter_env/lib/python3.8/site-packages (from anyio<5,>=3->langchain-core<0.2,>=0.1.22->langchain) (1.3.0)\n",
      "Requirement already satisfied: exceptiongroup in /anaconda/envs/jupyter_env/lib/python3.8/site-packages (from anyio<5,>=3->langchain-core<0.2,>=0.1.22->langchain) (1.1.1)\n",
      "Requirement already satisfied: mypy-extensions>=0.3.0 in /anaconda/envs/jupyter_env/lib/python3.8/site-packages (from typing-inspect<1,>=0.4.0->dataclasses-json<0.7,>=0.5.7->langchain) (1.0.0)\n",
      "Note: you may need to restart the kernel to use updated packages.\n",
      "Requirement already satisfied: langchain-community in /anaconda/envs/jupyter_env/lib/python3.8/site-packages (0.0.19)\n",
      "Requirement already satisfied: langsmith<0.1,>=0.0.83 in /anaconda/envs/jupyter_env/lib/python3.8/site-packages (from langchain-community) (0.0.87)\n",
      "Requirement already satisfied: numpy<2,>=1 in /anaconda/envs/jupyter_env/lib/python3.8/site-packages (from langchain-community) (1.24.3)\n",
      "Requirement already satisfied: PyYAML>=5.3 in /anaconda/envs/jupyter_env/lib/python3.8/site-packages (from langchain-community) (6.0)\n",
      "Requirement already satisfied: langchain-core<0.2,>=0.1.21 in /anaconda/envs/jupyter_env/lib/python3.8/site-packages (from langchain-community) (0.1.22)\n",
      "Requirement already satisfied: requests<3,>=2 in /anaconda/envs/jupyter_env/lib/python3.8/site-packages (from langchain-community) (2.31.0)\n",
      "Requirement already satisfied: tenacity<9.0.0,>=8.1.0 in /anaconda/envs/jupyter_env/lib/python3.8/site-packages (from langchain-community) (8.2.3)\n",
      "Requirement already satisfied: SQLAlchemy<3,>=1.4 in /anaconda/envs/jupyter_env/lib/python3.8/site-packages (from langchain-community) (2.0.26)\n",
      "Requirement already satisfied: dataclasses-json<0.7,>=0.5.7 in /anaconda/envs/jupyter_env/lib/python3.8/site-packages (from langchain-community) (0.6.4)\n",
      "Requirement already satisfied: aiohttp<4.0.0,>=3.8.3 in /anaconda/envs/jupyter_env/lib/python3.8/site-packages (from langchain-community) (3.8.4)\n",
      "Requirement already satisfied: async-timeout<5.0,>=4.0.0a3 in /anaconda/envs/jupyter_env/lib/python3.8/site-packages (from aiohttp<4.0.0,>=3.8.3->langchain-community) (4.0.2)\n",
      "Requirement already satisfied: charset-normalizer<4.0,>=2.0 in /anaconda/envs/jupyter_env/lib/python3.8/site-packages (from aiohttp<4.0.0,>=3.8.3->langchain-community) (3.1.0)\n",
      "Requirement already satisfied: frozenlist>=1.1.1 in /anaconda/envs/jupyter_env/lib/python3.8/site-packages (from aiohttp<4.0.0,>=3.8.3->langchain-community) (1.3.3)\n",
      "Requirement already satisfied: multidict<7.0,>=4.5 in /anaconda/envs/jupyter_env/lib/python3.8/site-packages (from aiohttp<4.0.0,>=3.8.3->langchain-community) (6.0.4)\n",
      "Requirement already satisfied: aiosignal>=1.1.2 in /anaconda/envs/jupyter_env/lib/python3.8/site-packages (from aiohttp<4.0.0,>=3.8.3->langchain-community) (1.3.1)\n",
      "Requirement already satisfied: attrs>=17.3.0 in /anaconda/envs/jupyter_env/lib/python3.8/site-packages (from aiohttp<4.0.0,>=3.8.3->langchain-community) (23.1.0)\n",
      "Requirement already satisfied: yarl<2.0,>=1.0 in /anaconda/envs/jupyter_env/lib/python3.8/site-packages (from aiohttp<4.0.0,>=3.8.3->langchain-community) (1.9.2)\n",
      "Requirement already satisfied: typing-inspect<1,>=0.4.0 in /anaconda/envs/jupyter_env/lib/python3.8/site-packages (from dataclasses-json<0.7,>=0.5.7->langchain-community) (0.9.0)\n",
      "Requirement already satisfied: marshmallow<4.0.0,>=3.18.0 in /anaconda/envs/jupyter_env/lib/python3.8/site-packages (from dataclasses-json<0.7,>=0.5.7->langchain-community) (3.20.2)\n",
      "Requirement already satisfied: pydantic<3,>=1 in /anaconda/envs/jupyter_env/lib/python3.8/site-packages (from langchain-core<0.2,>=0.1.21->langchain-community) (1.10.9)\n",
      "Requirement already satisfied: jsonpatch<2.0,>=1.33 in /anaconda/envs/jupyter_env/lib/python3.8/site-packages (from langchain-core<0.2,>=0.1.21->langchain-community) (1.33)\n",
      "Requirement already satisfied: anyio<5,>=3 in /anaconda/envs/jupyter_env/lib/python3.8/site-packages (from langchain-core<0.2,>=0.1.21->langchain-community) (3.7.0)\n",
      "Requirement already satisfied: packaging<24.0,>=23.2 in /anaconda/envs/jupyter_env/lib/python3.8/site-packages (from langchain-core<0.2,>=0.1.21->langchain-community) (23.2)\n",
      "Requirement already satisfied: urllib3<3,>=1.21.1 in /anaconda/envs/jupyter_env/lib/python3.8/site-packages (from requests<3,>=2->langchain-community) (1.26.16)\n",
      "Requirement already satisfied: certifi>=2017.4.17 in /anaconda/envs/jupyter_env/lib/python3.8/site-packages (from requests<3,>=2->langchain-community) (2023.5.7)\n",
      "Requirement already satisfied: idna<4,>=2.5 in /anaconda/envs/jupyter_env/lib/python3.8/site-packages (from requests<3,>=2->langchain-community) (3.4)\n",
      "Requirement already satisfied: greenlet!=0.4.17 in /anaconda/envs/jupyter_env/lib/python3.8/site-packages (from SQLAlchemy<3,>=1.4->langchain-community) (3.0.3)\n",
      "Requirement already satisfied: typing-extensions>=4.6.0 in /anaconda/envs/jupyter_env/lib/python3.8/site-packages (from SQLAlchemy<3,>=1.4->langchain-community) (4.6.3)\n",
      "Requirement already satisfied: exceptiongroup in /anaconda/envs/jupyter_env/lib/python3.8/site-packages (from anyio<5,>=3->langchain-core<0.2,>=0.1.21->langchain-community) (1.1.1)\n",
      "Requirement already satisfied: sniffio>=1.1 in /anaconda/envs/jupyter_env/lib/python3.8/site-packages (from anyio<5,>=3->langchain-core<0.2,>=0.1.21->langchain-community) (1.3.0)\n",
      "Requirement already satisfied: jsonpointer>=1.9 in /anaconda/envs/jupyter_env/lib/python3.8/site-packages (from jsonpatch<2.0,>=1.33->langchain-core<0.2,>=0.1.21->langchain-community) (2.4)\n",
      "Requirement already satisfied: mypy-extensions>=0.3.0 in /anaconda/envs/jupyter_env/lib/python3.8/site-packages (from typing-inspect<1,>=0.4.0->dataclasses-json<0.7,>=0.5.7->langchain-community) (1.0.0)\n",
      "Note: you may need to restart the kernel to use updated packages.\n",
      "Requirement already satisfied: langchain_community in /anaconda/envs/jupyter_env/lib/python3.8/site-packages (0.0.19)\n",
      "Collecting langchain_community\n",
      "  Downloading langchain_community-0.0.20-py3-none-any.whl (1.7 MB)\n",
      "\u001b[2K     \u001b[90m━━━━━━━━━━━━━━━━━━━━━━━━━━━━━━━━━━━━━━━━\u001b[0m \u001b[32m1.7/1.7 MB\u001b[0m \u001b[31m22.3 MB/s\u001b[0m eta \u001b[36m0:00:00\u001b[0m00:01\u001b[0m00:01\u001b[0m\n",
      "\u001b[?25hRequirement already satisfied: langchain-core<0.2,>=0.1.21 in /anaconda/envs/jupyter_env/lib/python3.8/site-packages (from langchain_community) (0.1.22)\n",
      "Requirement already satisfied: tenacity<9.0.0,>=8.1.0 in /anaconda/envs/jupyter_env/lib/python3.8/site-packages (from langchain_community) (8.2.3)\n",
      "Requirement already satisfied: aiohttp<4.0.0,>=3.8.3 in /anaconda/envs/jupyter_env/lib/python3.8/site-packages (from langchain_community) (3.8.4)\n",
      "Requirement already satisfied: requests<3,>=2 in /anaconda/envs/jupyter_env/lib/python3.8/site-packages (from langchain_community) (2.31.0)\n",
      "Requirement already satisfied: numpy<2,>=1 in /anaconda/envs/jupyter_env/lib/python3.8/site-packages (from langchain_community) (1.24.3)\n",
      "Requirement already satisfied: dataclasses-json<0.7,>=0.5.7 in /anaconda/envs/jupyter_env/lib/python3.8/site-packages (from langchain_community) (0.6.4)\n",
      "Requirement already satisfied: PyYAML>=5.3 in /anaconda/envs/jupyter_env/lib/python3.8/site-packages (from langchain_community) (6.0)\n",
      "Requirement already satisfied: SQLAlchemy<3,>=1.4 in /anaconda/envs/jupyter_env/lib/python3.8/site-packages (from langchain_community) (2.0.26)\n",
      "Requirement already satisfied: langsmith<0.1,>=0.0.83 in /anaconda/envs/jupyter_env/lib/python3.8/site-packages (from langchain_community) (0.0.87)\n",
      "Requirement already satisfied: attrs>=17.3.0 in /anaconda/envs/jupyter_env/lib/python3.8/site-packages (from aiohttp<4.0.0,>=3.8.3->langchain_community) (23.1.0)\n",
      "Requirement already satisfied: multidict<7.0,>=4.5 in /anaconda/envs/jupyter_env/lib/python3.8/site-packages (from aiohttp<4.0.0,>=3.8.3->langchain_community) (6.0.4)\n",
      "Requirement already satisfied: async-timeout<5.0,>=4.0.0a3 in /anaconda/envs/jupyter_env/lib/python3.8/site-packages (from aiohttp<4.0.0,>=3.8.3->langchain_community) (4.0.2)\n",
      "Requirement already satisfied: frozenlist>=1.1.1 in /anaconda/envs/jupyter_env/lib/python3.8/site-packages (from aiohttp<4.0.0,>=3.8.3->langchain_community) (1.3.3)\n",
      "Requirement already satisfied: charset-normalizer<4.0,>=2.0 in /anaconda/envs/jupyter_env/lib/python3.8/site-packages (from aiohttp<4.0.0,>=3.8.3->langchain_community) (3.1.0)\n",
      "Requirement already satisfied: aiosignal>=1.1.2 in /anaconda/envs/jupyter_env/lib/python3.8/site-packages (from aiohttp<4.0.0,>=3.8.3->langchain_community) (1.3.1)\n",
      "Requirement already satisfied: yarl<2.0,>=1.0 in /anaconda/envs/jupyter_env/lib/python3.8/site-packages (from aiohttp<4.0.0,>=3.8.3->langchain_community) (1.9.2)\n",
      "Requirement already satisfied: typing-inspect<1,>=0.4.0 in /anaconda/envs/jupyter_env/lib/python3.8/site-packages (from dataclasses-json<0.7,>=0.5.7->langchain_community) (0.9.0)\n",
      "Requirement already satisfied: marshmallow<4.0.0,>=3.18.0 in /anaconda/envs/jupyter_env/lib/python3.8/site-packages (from dataclasses-json<0.7,>=0.5.7->langchain_community) (3.20.2)\n",
      "Requirement already satisfied: packaging<24.0,>=23.2 in /anaconda/envs/jupyter_env/lib/python3.8/site-packages (from langchain-core<0.2,>=0.1.21->langchain_community) (23.2)\n",
      "Requirement already satisfied: pydantic<3,>=1 in /anaconda/envs/jupyter_env/lib/python3.8/site-packages (from langchain-core<0.2,>=0.1.21->langchain_community) (1.10.9)\n",
      "Requirement already satisfied: jsonpatch<2.0,>=1.33 in /anaconda/envs/jupyter_env/lib/python3.8/site-packages (from langchain-core<0.2,>=0.1.21->langchain_community) (1.33)\n",
      "Requirement already satisfied: anyio<5,>=3 in /anaconda/envs/jupyter_env/lib/python3.8/site-packages (from langchain-core<0.2,>=0.1.21->langchain_community) (3.7.0)\n",
      "Requirement already satisfied: idna<4,>=2.5 in /anaconda/envs/jupyter_env/lib/python3.8/site-packages (from requests<3,>=2->langchain_community) (3.4)\n",
      "Requirement already satisfied: certifi>=2017.4.17 in /anaconda/envs/jupyter_env/lib/python3.8/site-packages (from requests<3,>=2->langchain_community) (2023.5.7)\n",
      "Requirement already satisfied: urllib3<3,>=1.21.1 in /anaconda/envs/jupyter_env/lib/python3.8/site-packages (from requests<3,>=2->langchain_community) (1.26.16)\n",
      "Requirement already satisfied: greenlet!=0.4.17 in /anaconda/envs/jupyter_env/lib/python3.8/site-packages (from SQLAlchemy<3,>=1.4->langchain_community) (3.0.3)\n",
      "Requirement already satisfied: typing-extensions>=4.6.0 in /anaconda/envs/jupyter_env/lib/python3.8/site-packages (from SQLAlchemy<3,>=1.4->langchain_community) (4.6.3)\n",
      "Requirement already satisfied: exceptiongroup in /anaconda/envs/jupyter_env/lib/python3.8/site-packages (from anyio<5,>=3->langchain-core<0.2,>=0.1.21->langchain_community) (1.1.1)\n",
      "Requirement already satisfied: sniffio>=1.1 in /anaconda/envs/jupyter_env/lib/python3.8/site-packages (from anyio<5,>=3->langchain-core<0.2,>=0.1.21->langchain_community) (1.3.0)\n",
      "Requirement already satisfied: jsonpointer>=1.9 in /anaconda/envs/jupyter_env/lib/python3.8/site-packages (from jsonpatch<2.0,>=1.33->langchain-core<0.2,>=0.1.21->langchain_community) (2.4)\n",
      "Requirement already satisfied: mypy-extensions>=0.3.0 in /anaconda/envs/jupyter_env/lib/python3.8/site-packages (from typing-inspect<1,>=0.4.0->dataclasses-json<0.7,>=0.5.7->langchain_community) (1.0.0)\n",
      "Installing collected packages: langchain_community\n",
      "  Attempting uninstall: langchain_community\n",
      "    Found existing installation: langchain-community 0.0.19\n",
      "    Uninstalling langchain-community-0.0.19:\n",
      "      Successfully uninstalled langchain-community-0.0.19\n",
      "Successfully installed langchain_community-0.0.20\n",
      "Note: you may need to restart the kernel to use updated packages.\n",
      "Requirement already satisfied: python-dotenv in /anaconda/envs/jupyter_env/lib/python3.8/site-packages (1.0.1)\n",
      "Note: you may need to restart the kernel to use updated packages.\n"
     ]
    }
   ],
   "source": [
    "%pip install langchain \n",
    "%pip install langchain-community\n",
    "%pip install --upgrade langchain_community\n",
    "%pip install python-dotenv"
   ]
  },
  {
   "cell_type": "markdown",
   "id": "ae5516cb",
   "metadata": {},
   "source": [
    "# AzureMLEndpointApiType"
   ]
  },
  {
   "cell_type": "markdown",
   "id": "0ae8162e",
   "metadata": {},
   "source": [
    "•It determines the communication protocol and format used to send and receive data between clients and the deployed model"
   ]
  },
  {
   "cell_type": "markdown",
   "id": "21df9ccb",
   "metadata": {},
   "source": [
    "# importing libraries"
   ]
  },
  {
   "cell_type": "code",
   "execution_count": 2,
   "id": "ac9f29e7",
   "metadata": {
    "gather": {
     "logged": 1707885346516
    }
   },
   "outputs": [],
   "source": [
    "from langchain_community.chat_models.azureml_endpoint import AzureMLChatOnlineEndpoint\n",
    "from langchain.schema import HumanMessage\n",
    "from langchain.schema import HumanMessage\n",
    "from dotenv import dotenv_values\n",
    "from langchain_community.llms.azureml_endpoint import (\n",
    "    AzureMLEndpointApiType,\n",
    "    LlamaContentFormatter,\n",
    "    AzureMLOnlineEndpoint,\n",
    ")"
   ]
  },
  {
   "cell_type": "markdown",
   "id": "d32b07b6",
   "metadata": {},
   "source": [
    "•load_dotenv():It allows you to read key-value pairs from a .env file and return them as a dictionary"
   ]
  },
  {
   "cell_type": "markdown",
   "id": "0236be2d",
   "metadata": {},
   "source": [
    "•config.env: It is an environment file where the API key and model URL are stored.The environment file should be in the same root directory."
   ]
  },
  {
   "cell_type": "code",
   "execution_count": 4,
   "id": "1df1ec29-aeea-448d-b2e0-3bf75205a45a",
   "metadata": {
    "gather": {
     "logged": 1707885362025
    },
    "jupyter": {
     "outputs_hidden": false,
     "source_hidden": false
    },
    "nteract": {
     "transient": {
      "deleting": false
     }
    }
   },
   "outputs": [
    {
     "name": "stderr",
     "output_type": "stream",
     "text": [
      "Python-dotenv could not parse statement starting at line 2\n",
      "Python-dotenv could not parse statement starting at line 4\n"
     ]
    }
   ],
   "source": [
    "import os\n",
    "from dotenv import load_dotenv\n",
    "load_dotenv(\"config.env\")\n",
    "api_key=os.getenv(\"api_key\")\n",
    "api_base=os.getenv(\"api_base\")"
   ]
  },
  {
   "cell_type": "markdown",
   "id": "cd960cd5",
   "metadata": {},
   "source": [
    "# AzureMLOnlineEndpoint"
   ]
  },
  {
   "cell_type": "markdown",
   "id": "feee6444",
   "metadata": {},
   "source": [
    "•It provides functionalities to send text prompts to the model and receive its responses."
   ]
  },
  {
   "cell_type": "markdown",
   "id": "fc5f8806",
   "metadata": {},
   "source": [
    "•endpoint_url: This specifies the URL of the deployed chat model endpoint located on your Azure Machine Learning service. You likely found this in your config1 dictionary under the key \"BASE_URL\"."
   ]
  },
  {
   "cell_type": "markdown",
   "id": "f2caba82",
   "metadata": {},
   "source": [
    "•endpoint_api_type: This sets the type of API used by the endpoint. Here, AzureMLEndpointApiType.serverless indicates you're using a serverless deployment on Azure Functions."
   ]
  },
  {
   "cell_type": "markdown",
   "id": "34df05e5",
   "metadata": {},
   "source": [
    "•content_formatter: This defines how input and output data are formatted for the chat model. You're using LlamaChatContentFormatter(), which is specifically designed for LLaMa2-chat models."
   ]
  },
  {
   "cell_type": "markdown",
   "id": "8655ef9c",
   "metadata": {},
   "source": [
    "•model_kwargs: This is a dictionary of additional arguments passed to the model:"
   ]
  },
  {
   "cell_type": "markdown",
   "id": "cc7213ef",
   "metadata": {},
   "source": [
    "•temperature: This controls the randomness of the generated text. Here, it's set to 0.8, favoring higher creativity but potentially less coherence."
   ]
  },
  {
   "cell_type": "markdown",
   "id": "8a16e6ce",
   "metadata": {},
   "source": [
    "•max_new_tokens: This limits the maximum number of new tokens (words) the model can generate in its response, set to 400 in this case."
   ]
  },
  {
   "cell_type": "code",
   "execution_count": 6,
   "id": "40c1dd98",
   "metadata": {
    "gather": {
     "logged": 1707885380461
    }
   },
   "outputs": [],
   "source": [
    "llm = AzureMLOnlineEndpoint(\n",
    "    endpoint_url=api_base, \n",
    "    endpoint_api_type=AzureMLEndpointApiType.serverless,\n",
    "    endpoint_api_key=api_key, \n",
    "    content_formatter=LlamaContentFormatter(),\n",
    "    model_kwargs={\"temperature\": 0.8, \"max_new_tokens\": 400},\n",
    ")"
   ]
  },
  {
   "cell_type": "markdown",
   "id": "9c032a09",
   "metadata": {},
   "source": [
    "•llm.invoke(): This method sends the provided message(s) to the LLM and retrieves its response."
   ]
  },
  {
   "cell_type": "code",
   "execution_count": 7,
   "id": "a0bdcbb0",
   "metadata": {
    "gather": {
     "logged": 1707885385064
    }
   },
   "outputs": [
    {
     "data": {
      "text/plain": [
       "'travel the World. I like to share with you my passion for traveling,'"
      ]
     },
     "execution_count": 7,
     "metadata": {},
     "output_type": "execute_result"
    }
   ],
   "source": [
    "response = llm.invoke(\"My name is Julien and I like to\")\n",
    "response"
   ]
  },
  {
   "cell_type": "code",
   "execution_count": null,
   "id": "56c269d7",
   "metadata": {},
   "outputs": [],
   "source": []
  }
 ],
 "metadata": {
  "kernel_info": {
   "name": "python3"
  },
  "kernelspec": {
   "display_name": "Python 3 (ipykernel)",
   "language": "python",
   "name": "python3"
  },
  "language_info": {
   "codemirror_mode": {
    "name": "ipython",
    "version": 3
   },
   "file_extension": ".py",
   "mimetype": "text/x-python",
   "name": "python",
   "nbconvert_exporter": "python",
   "pygments_lexer": "ipython3",
   "version": "3.11.5"
  },
  "microsoft": {
   "host": {
    "AzureML": {
     "notebookHasBeenCompleted": true
    }
   },
   "ms_spell_check": {
    "ms_spell_check_language": "en"
   }
  },
  "nteract": {
   "version": "nteract-front-end@1.0.0"
  }
 },
 "nbformat": 4,
 "nbformat_minor": 5
}
