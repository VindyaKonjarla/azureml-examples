{
 "cells": [
  {
   "cell_type": "code",
   "execution_count": null,
   "id": "b8c1a301",
   "metadata": {},
   "outputs": [],
   "source": [
    "%pip install langchain \n",
    "%pip install langchain-community\n",
    "%pip install --upgrade langchain_community\n",
    "%pip install python-dotenv"
   ]
  },
  {
   "cell_type": "code",
   "execution_count": null,
   "id": "f3b7057e",
   "metadata": {},
   "outputs": [],
   "source": [
    "from langchain_community.chat_models.azureml_endpoint import AzureMLChatOnlineEndpoint\n",
    "from langchain.schema import HumanMessage\n",
    "from langchain.schema import HumanMessage\n",
    "from dotenv import dotenv_values\n",
    "from langchain_community.llms.azureml_endpoint import (\n",
    "    AzureMLEndpointApiType,\n",
    "    LlamaContentFormatter,\n",
    "    AzureMLOnlineEndpoint,\n",
    ")"
   ]
  },
  {
   "cell_type": "code",
   "execution_count": null,
   "id": "ffc7850e",
   "metadata": {},
   "outputs": [],
   "source": [
    "import os\n",
    "from dotenv import load_dotenv\n",
    "load_dotenv(\"config.env\")\n",
    "api_key=os.getenv(\"api_key\")\n",
    "api_base=os.getenv(\"api_base\")"
   ]
  },
  {
   "cell_type": "code",
   "execution_count": null,
   "id": "479d2ee2",
   "metadata": {},
   "outputs": [],
   "source": [
    "llm = AzureMLOnlineEndpoint(\n",
    "    endpoint_url=api_base, \n",
    "    endpoint_api_type=AzureMLEndpointApiType.serverless,\n",
    "    endpoint_api_key=api_key, \n",
    "    content_formatter=LlamaContentFormatter(),\n",
    "    model_kwargs={\"temperature\": 0.8, \"max_new_tokens\": 400},\n",
    ")"
   ]
  },
  {
   "cell_type": "code",
   "execution_count": null,
   "id": "4812658c",
   "metadata": {},
   "outputs": [],
   "source": [
    "response = llm.invoke(\"My name is Julien and I like to\")\n",
    "response"
   ]
  }
 ],
 "metadata": {
  "kernelspec": {
   "display_name": "Python 3 (ipykernel)",
   "language": "python",
   "name": "python3"
  },
  "language_info": {
   "codemirror_mode": {
    "name": "ipython",
    "version": 3
   },
   "file_extension": ".py",
   "mimetype": "text/x-python",
   "name": "python",
   "nbconvert_exporter": "python",
   "pygments_lexer": "ipython3",
   "version": "3.11.5"
  }
 },
 "nbformat": 4,
 "nbformat_minor": 5
}
