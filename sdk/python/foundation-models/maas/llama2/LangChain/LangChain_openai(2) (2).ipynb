{
  "cells": [
    {
      "cell_type": "markdown",
      "source": [
        "# Importing Libraries "
      ],
      "metadata": {},
      "id": "2b199acf"
    },
    {
      "cell_type": "code",
      "source": [
        "import os\n",
        "from langchain.chat_models import AzureChatOpenAI\n",
        "from langchain.schema import HumanMessage\n",
        "from dotenv import load_dotenv"
      ],
      "outputs": [],
      "execution_count": null,
      "metadata": {
        "gather": {
          "logged": 1707916375924
        }
      },
      "id": "cd9ab875"
    },
    {
      "cell_type": "markdown",
      "source": [
        "•Load_dotenv:Load the environmet variable from the .env file\n",
        "\n",
        "•Load the URL from the .env file using this os.getenv()\n",
        "\n",
        "•Load the primary/secondary key or AMLToken for the endpoint from the .env file using os.getenv()\n",
        "\n",
        "•Load the deloyment_name1 from the .env file using this os.getenv()\n",
        "\n",
        "•Load the api_version1 from the .env file using this os.getenv()"
      ],
      "metadata": {
        "nteract": {
          "transient": {
            "deleting": false
          }
        }
      },
      "id": "5495f1ae-ecfe-4f13-bee8-74069df8b115"
    },
    {
      "cell_type": "raw",
      "source": [],
      "metadata": {},
      "id": "5fcc5661"
    },
    {
      "cell_type": "code",
      "source": [
        "load_dotenv(\"config.env\")\n",
        "url = os.getenv(\"BASE_URL\")\n",
        "api_key_1 = os.getenv(\"api_key\")\n",
        "deloyment_name1= os.getenv(\"deloyment_name\")\n",
        "api_version1= os.getenv(\"api_version\")"
      ],
      "outputs": [],
      "execution_count": null,
      "metadata": {
        "gather": {
          "logged": 1707916381563
        }
      },
      "id": "7574646d"
    },
    {
      "cell_type": "markdown",
      "source": [
        "•AzureChatOpenAI :you can use it to send chat messages to the language model and receive responses.\n",
        "\n",
        "•deployment_name:  The name of the deployed language model on Azure OpenAI you want to use (e.g., \"gpt-35-turbo\").\n",
        "\n",
        "•openai_api_version: The API version of the Azure OpenAI Service to use (e.g., \"2023-03-15-preview\").\n",
        "\n",
        "•openai_api_key:  Your Azure OpenAI API key for authentication.\n",
        "\n",
        "•openai_api_base:  The base URL for the Azure OpenAI API endpoint"
      ],
      "metadata": {
        "nteract": {
          "transient": {
            "deleting": false
          }
        }
      },
      "id": "3da05151-163c-4aab-a14d-1d5f7d22d436"
    },
    {
      "cell_type": "raw",
      "source": [],
      "metadata": {},
      "id": "677c3f36"
    },
    {
      "cell_type": "code",
      "source": [
        "llm = AzureChatOpenAI(deployment_name=deloyment_name1, openai_api_version=api_version1, openai_api_key=api_key_1, openai_api_base=url)"
      ],
      "outputs": [],
      "execution_count": null,
      "metadata": {
        "gather": {
          "logged": 1707916387722
        }
      },
      "id": "a2294f96"
    },
    
    {
      "cell_type": "markdown",
      "source": [
        "•HumanMessage:is used to represent messages originating from a human user in the context of the langchain library"
      ],
      "metadata": {
        "nteract": {
          "transient": {
            "deleting": false
          }
        }
      },
      "id": "7b0e788e-8e2b-46e9-a1ae-b9179cf4ccea"
    },
    {
      "cell_type": "raw",
      "source": [],
      "metadata": {},
      "id": "576c9c4d"
    },
    {
      "cell_type": "code",
      "source": [
        "msg = HumanMessage(content=\"Explain step by step. How old is the president of USA?\")\n",
        "print(llm(messages=[msg]))"
      ],
      "outputs": [],
      "execution_count": null,
      "metadata": {
        "gather": {
          "logged": 1707916399470
        }
      },
      "id": "8749480f"
    }
  ],
  "metadata": {
    "kernelspec": {
      "name": "python3",
      "language": "python",
      "display_name": "Python 3 (ipykernel)"
    },
    "language_info": {
      "name": "python",
      "version": "3.8.5",
      "mimetype": "text/x-python",
      "codemirror_mode": {
        "name": "ipython",
        "version": 3
      },
      "pygments_lexer": "ipython3",
      "nbconvert_exporter": "python",
      "file_extension": ".py"
    },
    "microsoft": {
      "ms_spell_check": {
        "ms_spell_check_language": "en"
      }
    },
    "kernel_info": {
      "name": "python3"
    },
    "nteract": {
      "version": "nteract-front-end@1.0.0"
    }
  },
  "nbformat": 4,
  "nbformat_minor": 5
}
