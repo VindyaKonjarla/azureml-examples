{
 "cells": [
  {
   "cell_type": "markdown",
   "id": "2b199acf",
   "metadata": {},
   "source": [
    "# importing Libraries "
   ]
  },
  {
   "cell_type": "code",
   "execution_count": null,
   "id": "cd9ab875",
   "metadata": {},
   "outputs": [],
   "source": [
    "import os\n",
    "from langchain.chat_models import AzureChatOpenAI\n",
    "from langchain.schema import HumanMessage\n",
    "from dotenv import load_dotenv"
   ]
  },
  {
   "cell_type": "code",
   "execution_count": null,
   "id": "f21f7ebd",
   "metadata": {},
   "outputs": [],
   "source": []
  },
  {
   "cell_type": "raw",
   "id": "5fcc5661",
   "metadata": {},
   "source": [
    "• Load_dotenv:Load the environmet variable from the .env file\n",
    "• Load the URL from the .env file using this os.getenv()\n",
    "• Load the primary/secondary key or AMLToken for the endpoint from the .env file using os.getenv()\n",
    "• Load the deloyment_name1 from the .env file using this os.getenv()\n",
    "• Load the api_version1 from the .env file using this os.getenv()"
   ]
  },
  {
   "cell_type": "code",
   "execution_count": null,
   "id": "7574646d",
   "metadata": {},
   "outputs": [],
   "source": [
    "load_dotenv(\"config.env\")\n",
    "url = os.getenv(\"BASE_URL\")\n",
    "api_key_1 = os.getenv(\"api_key\")\n",
    "deloyment_name1= os.getenv(\"deloyment_name\")\n",
    "api_version1= os.getenv(\"api_version\")"
   ]
  },
  {
   "cell_type": "code",
   "execution_count": null,
   "id": "7fbca9b7",
   "metadata": {},
   "outputs": [],
   "source": []
  },
  {
   "cell_type": "raw",
   "id": "677c3f36",
   "metadata": {},
   "source": [
    "•AzureChatOpenAI :you can use it to send chat messages to the language model and receive responses.\n",
    "•deployment_name:  The name of the deployed language model on Azure OpenAI you want to use (e.g., \"gpt-35-turbo\").\n",
    "•openai_api_version: The API version of the Azure OpenAI Service to use (e.g., \"2023-03-15-preview\").\n",
    "•openai_api_key:  Your Azure OpenAI API key for authentication.\n",
    "•openai_api_base:  The base URL for the Azure OpenAI API endpoint\n"
   ]
  },
  {
   "cell_type": "code",
   "execution_count": null,
   "id": "a2294f96",
   "metadata": {},
   "outputs": [],
   "source": [
    "llm = AzureChatOpenAI(deployment_name=deloyment_name1, openai_api_version=api_version1, openai_api_key=api_key_1, openai_api_base=url)"
   ]
  },
  {
   "cell_type": "code",
   "execution_count": null,
   "id": "42bd0efa",
   "metadata": {},
   "outputs": [],
   "source": []
  },
  {
   "cell_type": "raw",
   "id": "576c9c4d",
   "metadata": {},
   "source": [
    "•HumanMessage:is used to represent messages originating from a human user in the context of the langchain library."
   ]
  },
  {
   "cell_type": "code",
   "execution_count": null,
   "id": "8749480f",
   "metadata": {},
   "outputs": [],
   "source": [
    "msg = HumanMessage(content=\"Explain step by step. How old is the president of USA?\")\n",
    "print(llm(messages=[msg]))"
   ]
  }
 ],
 "metadata": {
  "kernelspec": {
   "display_name": "Python 3 (ipykernel)",
   "language": "python",
   "name": "python3"
  },
  "language_info": {
   "codemirror_mode": {
    "name": "ipython",
    "version": 3
   },
   "file_extension": ".py",
   "mimetype": "text/x-python",
   "name": "python",
   "nbconvert_exporter": "python",
   "pygments_lexer": "ipython3",
   "version": "3.11.5"
  }
 },
 "nbformat": 4,
 "nbformat_minor": 5
}
