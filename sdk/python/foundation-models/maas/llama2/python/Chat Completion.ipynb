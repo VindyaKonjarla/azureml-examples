{
  "cells": [
    {
      "cell_type": "markdown",
      "source": [
        "#### Import necessary Library"
      ],
      "metadata": {},
      "id": "40fc5aa9"
    },
    {
      "cell_type": "code",
      "source": [
        "import urllib.request\n",
        "import json\n",
        "import ssl\n",
        "import os\n",
        "from dotenv import load_dotenv"
      ],
      "outputs": [],
      "execution_count": 4,
      "metadata": {
        "gather": {
          "logged": 1712207347210
        }
      },
      "id": "3c4527f1"
    },
    {
      "cell_type": "code",
      "source": [
        "from dotenv import dotenv_values\n",
        "config = dotenv_values(\"config.env\")\n",
        "config=dict(config)\n",
        "api_key = config[\"api_key_completion\"]\n",
        "url = config[\"url_completion\"]"
      ],
      "outputs": [],
      "execution_count": 5,
      "metadata": {
        "jupyter": {
          "source_hidden": false,
          "outputs_hidden": false
        },
        "nteract": {
          "transient": {
            "deleting": false
          }
        },
        "gather": {
          "logged": 1712207349318
        }
      },
      "id": "7a51bf1c-76d4-477a-8caa-4a5186f137ed"
    },
    {
      "cell_type": "markdown",
      "source": [
        "•  Conditional Check: The function starts by checking if both allowed is True and the PYTHONHTTPSVERIFY environment variable is not set or is an empty string. This variable, if present and non-empty, controls HTTPS certificate verification behavior.\n",
        "\n",
        "\n",
        "•  ssl Module Attribute: It then checks if the ssl module has an attribute named _create_unverified_context. This attribute, if present, provides a way to create an HTTPS context without verifying the server's certificate.\n",
        "\n",
        "•  Modification: If both conditions are met (allowing self-signed certs and unverified context creation), the function sets the ssl._create_default_https_context attribute to the _create_unverified_context value. This effectively instructs the ssl module to skip server certificate verification for all HTTPS connections.\n"
      ],
      "metadata": {},
      "id": "3438b348"
    },
    {
      "cell_type": "code",
      "source": [
        "def allowSelfSignedHttps(allowed):\n",
        "    # bypass the server certificate verification on client side\n",
        "    if allowed and not os.environ.get('PYTHONHTTPSVERIFY', '') and getattr(ssl, '_create_unverified_context', None):\n",
        "        ssl._create_default_https_context = ssl._create_unverified_context"
      ],
      "outputs": [],
      "execution_count": 6,
      "metadata": {
        "gather": {
          "logged": 1712207353224
        }
      },
      "id": "2468f6cf"
    },
    {
      "cell_type": "markdown",
      "source": [
        "•this line is needed if you use self-signed certificate in your scoring service."
      ],
      "metadata": {},
      "id": "d763928e"
    },
    {
      "cell_type": "code",
      "source": [
        "allowSelfSignedHttps(True)"
      ],
      "outputs": [],
      "execution_count": 7,
      "metadata": {
        "gather": {
          "logged": 1712207355480
        }
      },
      "id": "cc7671b3"
    },
    {
      "cell_type": "markdown",
      "source": [
        "•\tprompt: This is the starting text or phrase that the LLM will use to begin generating new text.\n",
        "\n",
        "•\ttemperature: This parameter controls the \"creativity\" or randomness of the output.\n",
        "\n",
        "•\tmax_tokens: This parameter specifies the maximum number of tokens (words or sub-word units) that the LLM should generate for the output.\n"
      ],
      "metadata": {},
      "id": "92efbcf5"
    },
    {
      "cell_type": "code",
      "source": [
        "data =  {\n",
        "  \"prompt\": \"My name is Julien and I like to\",\n",
        "  \"temperature\": 0.8,\n",
        "  \"max_tokens\": 128\n",
        "}"
      ],
      "outputs": [],
      "execution_count": 8,
      "metadata": {
        "gather": {
          "logged": 1712207361583
        }
      },
      "id": "fbf40c04"
    },
    {
      "cell_type": "markdown",
      "source": [
        "•\tjson.dumps(data): This function takes a Python object (data) and converts it into a JSON string. JSON (JavaScript Object Notation) is a popular format for exchanging data between applications.\n",
        "\n",
        "•\tstr.encode(json_string): This function takes the JSON string generated in the previous step and encodes it into bytes. This encoding is necessary because many network protocols, like HTTP, expect data to be sent as bytes.\n"
      ],
      "metadata": {},
      "id": "3934850e"
    },
    {
      "cell_type": "code",
      "source": [
        "body = str.encode(json.dumps(data))"
      ],
      "outputs": [],
      "execution_count": 9,
      "metadata": {
        "gather": {
          "logged": 1712207367555
        }
      },
      "id": "7c153c4c"
    },
    {
      "cell_type": "markdown",
      "source": [
        "• Load the environmet variable from the .env file"
      ],
      "metadata": {},
      "id": "b5cd730d"
    },
    {
      "cell_type": "markdown",
      "source": [
        "• Load the URL from the .env file using this os.getenv()"
      ],
      "metadata": {},
      "id": "aea1faa7"
    },
    {
      "cell_type": "markdown",
      "source": [
        "• Load the primary/secondary key or AMLToken for the endpoint from the .env file using os.getenv()"
      ],
      "metadata": {},
      "id": "6aae07b5"
    },
    {
      "cell_type": "markdown",
      "source": [
        "•Checking api key is correct or not "
      ],
      "metadata": {},
      "id": "a594870a"
    },
    {
      "cell_type": "code",
      "source": [
        "if not api_key:\n",
        "    raise Exception(\"A key should be provided to invoke the endpoint\")"
      ],
      "outputs": [],
      "execution_count": 11,
      "metadata": {
        "gather": {
          "logged": 1712207420527
        }
      },
      "id": "07d35a00"
    },
    {
      "cell_type": "markdown",
      "source": [
        "•Content-Type: Identifies the data format as JSON."
      ],
      "metadata": {},
      "id": "b3d43041"
    },
    {
      "cell_type": "markdown",
      "source": [
        "•\tAuthorization: Authenticates the request using your API key."
      ],
      "metadata": {},
      "id": "475e9aaf"
    },
    {
      "cell_type": "code",
      "source": [
        "headers = {'Content-Type':'application/json', 'Authorization':('Bearer '+ api_key)}"
      ],
      "outputs": [],
      "execution_count": 15,
      "metadata": {
        "gather": {
          "logged": 1712207481573
        }
      },
      "id": "d8ccb35e"
    },
    {
      "cell_type": "markdown",
      "source": [
        "•\tBelow code will send the request and return a response object containing the server's response data and headers."
      ],
      "metadata": {},
      "id": "e30e096b"
    },
    {
      "cell_type": "code",
      "source": [
        "req = urllib.request.Request(url, body, headers)"
      ],
      "outputs": [],
      "execution_count": 16,
      "metadata": {
        "gather": {
          "logged": 1712207483904
        }
      },
      "id": "31aab11f"
    },
    {
      "cell_type": "markdown",
      "source": [
        "•response = urllib.request.urlopen(req): This line sends the HTTP request using the req object (which should contain the URL, body, and headers)."
      ],
      "metadata": {},
      "id": "3f956ab4"
    },
    {
      "cell_type": "markdown",
      "source": [
        "•result = response.read(): If the request is successful, this line reads the entire response body into the result variable."
      ],
      "metadata": {},
      "id": "90df1945"
    },
    {
      "cell_type": "markdown",
      "source": [
        "•\texcept urllib.error.HTTPError as error: This part defines an except block to handle HTTPError exceptions that might occur during the request. The error object is stored as error."
      ],
      "metadata": {},
      "id": "d57b929a"
    },
    {
      "cell_type": "code",
      "source": [
        "try:\n",
        "    response = urllib.request.urlopen(req)\n",
        "\n",
        "    result = response.read()\n",
        "    print(result)\n",
        "except urllib.error.HTTPError as error:\n",
        "    print(\"The request failed with status code: \" + str(error.code))\n",
        "    print(error.info())\n",
        "    print(error.read().decode(\"utf8\", 'ignore'))"
      ],
      "outputs": [
        {
          "output_type": "stream",
          "name": "stdout",
          "text": "The request failed with status code: 424\nContent-Length: 95\nContent-Type: text/plain\nx-request-id: 5807609d-74e1-486b-8bdf-c667bac2f2e9\nms-azureml-model-error-reason: model_not_ready\nRequest-Context: appId=cid-v1:b80100f5-1286-423d-967f-3517f665186d\nazureml-model-session: dep-2-70b-231109102345\nazureml-model-group: offer-llama-2-70b-paygo\nDate: Thu, 04 Apr 2024 05:29:26 GMT\nConnection: close\n\n\nupstream connect error or disconnect/reset before headers. reset reason: connection termination\n"
        }
      ],
      "execution_count": 22,
      "metadata": {
        "gather": {
          "logged": 1712208565294
        },
        "jupyter": {
          "outputs_hidden": true
        }
      },
      "id": "c6c2ff5b"
    },
    {
      "cell_type": "raw",
      "source": [],
      "metadata": {},
      "id": "73c9e106"
    }
  ],
  "metadata": {
    "kernel_info": {
      "name": "python3"
    },
    "kernelspec": {
      "name": "python3",
      "language": "python",
      "display_name": "Python 3 (ipykernel)"
    },
    "language_info": {
      "name": "python",
      "version": "3.8.5",
      "mimetype": "text/x-python",
      "codemirror_mode": {
        "name": "ipython",
        "version": 3
      },
      "pygments_lexer": "ipython3",
      "nbconvert_exporter": "python",
      "file_extension": ".py"
    },
    "microsoft": {
      "host": {
        "AzureML": {
          "notebookHasBeenCompleted": true
        }
      },
      "ms_spell_check": {
        "ms_spell_check_language": "en"
      }
    },
    "nteract": {
      "version": "nteract-front-end@1.0.0"
    }
  },
  "nbformat": 4,
  "nbformat_minor": 5
}