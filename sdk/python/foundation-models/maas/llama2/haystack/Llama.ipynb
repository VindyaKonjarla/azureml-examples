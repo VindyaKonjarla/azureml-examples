{
  "cells": [
    {
      "cell_type": "code",
      "source": [
        "%pip install haystack-ai"
      ],
      "outputs": [
        {
          "output_type": "stream",
          "name": "stdout",
          "text": "Requirement already satisfied: haystack-ai in /anaconda/envs/azureml_py310_sdkv2/lib/python3.10/site-packages (2.0.0b8)\nRequirement already satisfied: boilerpy3 in /anaconda/envs/azureml_py310_sdkv2/lib/python3.10/site-packages (from haystack-ai) (1.0.7)\nRequirement already satisfied: haystack-bm25 in /anaconda/envs/azureml_py310_sdkv2/lib/python3.10/site-packages (from haystack-ai) (1.0.2)\nRequirement already satisfied: jinja2 in /anaconda/envs/azureml_py310_sdkv2/lib/python3.10/site-packages (from haystack-ai) (3.1.2)\nRequirement already satisfied: lazy-imports in /anaconda/envs/azureml_py310_sdkv2/lib/python3.10/site-packages (from haystack-ai) (0.3.1)\nRequirement already satisfied: more-itertools in /anaconda/envs/azureml_py310_sdkv2/lib/python3.10/site-packages (from haystack-ai) (10.2.0)\nRequirement already satisfied: networkx in /anaconda/envs/azureml_py310_sdkv2/lib/python3.10/site-packages (from haystack-ai) (3.1)\nRequirement already satisfied: openai>=1.1.0 in /anaconda/envs/azureml_py310_sdkv2/lib/python3.10/site-packages (from haystack-ai) (1.13.3)\nRequirement already satisfied: pandas in /anaconda/envs/azureml_py310_sdkv2/lib/python3.10/site-packages (from haystack-ai) (2.0.2)\nRequirement already satisfied: posthog in /anaconda/envs/azureml_py310_sdkv2/lib/python3.10/site-packages (from haystack-ai) (3.5.0)\nRequirement already satisfied: pyyaml in /anaconda/envs/azureml_py310_sdkv2/lib/python3.10/site-packages (from haystack-ai) (6.0)\nRequirement already satisfied: tenacity in /anaconda/envs/azureml_py310_sdkv2/lib/python3.10/site-packages (from haystack-ai) (8.2.3)\nRequirement already satisfied: tqdm in /anaconda/envs/azureml_py310_sdkv2/lib/python3.10/site-packages (from haystack-ai) (4.65.0)\nRequirement already satisfied: typing-extensions in /anaconda/envs/azureml_py310_sdkv2/lib/python3.10/site-packages (from haystack-ai) (4.10.0)\nRequirement already satisfied: anyio<5,>=3.5.0 in /anaconda/envs/azureml_py310_sdkv2/lib/python3.10/site-packages (from openai>=1.1.0->haystack-ai) (4.3.0)\nRequirement already satisfied: distro<2,>=1.7.0 in /anaconda/envs/azureml_py310_sdkv2/lib/python3.10/site-packages (from openai>=1.1.0->haystack-ai) (1.8.0)\nRequirement already satisfied: httpx<1,>=0.23.0 in /anaconda/envs/azureml_py310_sdkv2/lib/python3.10/site-packages (from openai>=1.1.0->haystack-ai) (0.27.0)\nRequirement already satisfied: pydantic<3,>=1.9.0 in /anaconda/envs/azureml_py310_sdkv2/lib/python3.10/site-packages (from openai>=1.1.0->haystack-ai) (2.6.3)\nRequirement already satisfied: sniffio in /anaconda/envs/azureml_py310_sdkv2/lib/python3.10/site-packages (from openai>=1.1.0->haystack-ai) (1.3.1)\nRequirement already satisfied: numpy in /anaconda/envs/azureml_py310_sdkv2/lib/python3.10/site-packages (from haystack-bm25->haystack-ai) (1.25.0)\nRequirement already satisfied: MarkupSafe>=2.0 in /anaconda/envs/azureml_py310_sdkv2/lib/python3.10/site-packages (from jinja2->haystack-ai) (2.1.3)\nRequirement already satisfied: python-dateutil>=2.8.2 in /anaconda/envs/azureml_py310_sdkv2/lib/python3.10/site-packages (from pandas->haystack-ai) (2.8.2)\nRequirement already satisfied: pytz>=2020.1 in /anaconda/envs/azureml_py310_sdkv2/lib/python3.10/site-packages (from pandas->haystack-ai) (2023.3)\nRequirement already satisfied: tzdata>=2022.1 in /anaconda/envs/azureml_py310_sdkv2/lib/python3.10/site-packages (from pandas->haystack-ai) (2023.3)\nRequirement already satisfied: requests<3.0,>=2.7 in /anaconda/envs/azureml_py310_sdkv2/lib/python3.10/site-packages (from posthog->haystack-ai) (2.31.0)\nRequirement already satisfied: six>=1.5 in /anaconda/envs/azureml_py310_sdkv2/lib/python3.10/site-packages (from posthog->haystack-ai) (1.16.0)\nRequirement already satisfied: monotonic>=1.5 in /anaconda/envs/azureml_py310_sdkv2/lib/python3.10/site-packages (from posthog->haystack-ai) (1.6)\nRequirement already satisfied: backoff>=1.10.0 in /anaconda/envs/azureml_py310_sdkv2/lib/python3.10/site-packages (from posthog->haystack-ai) (2.2.1)\nRequirement already satisfied: idna>=2.8 in /anaconda/envs/azureml_py310_sdkv2/lib/python3.10/site-packages (from anyio<5,>=3.5.0->openai>=1.1.0->haystack-ai) (3.4)\nRequirement already satisfied: exceptiongroup>=1.0.2 in /anaconda/envs/azureml_py310_sdkv2/lib/python3.10/site-packages (from anyio<5,>=3.5.0->openai>=1.1.0->haystack-ai) (1.2.0)\nRequirement already satisfied: certifi in /anaconda/envs/azureml_py310_sdkv2/lib/python3.10/site-packages (from httpx<1,>=0.23.0->openai>=1.1.0->haystack-ai) (2023.5.7)\nRequirement already satisfied: httpcore==1.* in /anaconda/envs/azureml_py310_sdkv2/lib/python3.10/site-packages (from httpx<1,>=0.23.0->openai>=1.1.0->haystack-ai) (1.0.4)\nRequirement already satisfied: h11<0.15,>=0.13 in /anaconda/envs/azureml_py310_sdkv2/lib/python3.10/site-packages (from httpcore==1.*->httpx<1,>=0.23.0->openai>=1.1.0->haystack-ai) (0.14.0)\nRequirement already satisfied: annotated-types>=0.4.0 in /anaconda/envs/azureml_py310_sdkv2/lib/python3.10/site-packages (from pydantic<3,>=1.9.0->openai>=1.1.0->haystack-ai) (0.6.0)\nRequirement already satisfied: pydantic-core==2.16.3 in /anaconda/envs/azureml_py310_sdkv2/lib/python3.10/site-packages (from pydantic<3,>=1.9.0->openai>=1.1.0->haystack-ai) (2.16.3)\nRequirement already satisfied: charset-normalizer<4,>=2 in /anaconda/envs/azureml_py310_sdkv2/lib/python3.10/site-packages (from requests<3.0,>=2.7->posthog->haystack-ai) (3.1.0)\nRequirement already satisfied: urllib3<3,>=1.21.1 in /anaconda/envs/azureml_py310_sdkv2/lib/python3.10/site-packages (from requests<3.0,>=2.7->posthog->haystack-ai) (1.26.16)\nNote: you may need to restart the kernel to use updated packages.\n"
        }
      ],
      "execution_count": 1,
      "metadata": {}
    },
    {
      "cell_type": "code",
      "source": [
        "import os\n",
        "from haystack.utils import Secret"
      ],
      "outputs": [
        {
          "output_type": "stream",
          "name": "stderr",
          "text": "/anaconda/envs/azureml_py310_sdkv2/lib/python3.10/site-packages/tqdm/auto.py:21: TqdmWarning: IProgress not found. Please update jupyter and ipywidgets. See https://ipywidgets.readthedocs.io/en/stable/user_install.html\n  from .autonotebook import tqdm as notebook_tqdm\n/anaconda/envs/azureml_py310_sdkv2/lib/python3.10/site-packages/torch/cuda/__init__.py:138: UserWarning: CUDA initialization: The NVIDIA driver on your system is too old (found version 11040). Please update your GPU driver by downloading and installing a new version from the URL: http://www.nvidia.com/Download/index.aspx Alternatively, go to: https://pytorch.org to install a PyTorch version that has been compiled with your version of the CUDA driver. (Triggered internally at ../c10/cuda/CUDAFunctions.cpp:108.)\n  return torch._C._cuda_getDeviceCount() > 0\n"
        }
      ],
      "execution_count": 3,
      "metadata": {
        "jupyter": {
          "source_hidden": false,
          "outputs_hidden": false
        },
        "nteract": {
          "transient": {
            "deleting": false
          }
        },
        "gather": {
          "logged": 1710747208430
        }
      }
    },
    {
      "cell_type": "code",
      "source": [
        "# Llama2-70b chat\n",
        "from haystack.components.generators import OpenAIGenerator\n",
        "\n",
        "os.environ[\"OPENAI_API_KEY\"] = \"YOUR_AZUREAI_API_KEY\"\n",
        "\n",
        "client = OpenAIGenerator(\n",
        "    api_key=Secret.from_env_var(\"OPENAI_API_KEY\"),\n",
        "    api_base_url = \"YOUR_AZUREAI_API_URL\"\n",
        "    )"
      ],
      "outputs": [
        {
          "output_type": "stream",
          "name": "stderr",
          "text": "/anaconda/envs/azureml_py310_sdkv2/lib/python3.10/site-packages/torch/cuda/__init__.py:611: UserWarning: Can't initialize NVML\n  warnings.warn(\"Can't initialize NVML\")\n"
        }
      ],
      "execution_count": 4,
      "metadata": {
        "jupyter": {
          "source_hidden": false,
          "outputs_hidden": false
        },
        "nteract": {
          "transient": {
            "deleting": false
          }
        },
        "gather": {
          "logged": 1710747223532
        }
      }
    },
    {
      "cell_type": "code",
      "source": [
        "response = client.run(\"Tell me about the iconic bowling spell of curtly Ambrose against Australia in test match\")\n",
        "print(response)"
      ],
      "outputs": [
        {
          "output_type": "stream",
          "name": "stdout",
          "text": "{'replies': [\"  The iconic bowling spell of Curtly Ambrose against Australia in a Test match refers to the remarkable performance of the West Indian fast bowler during the 1992-1993 Frank Worrell Trophy series. In the first Test match of the series, played at the Kensington Oval in Barbados, Ambrose delivered a devastating spell of fast bowling that left the Australian batting line-up in tatters.\\n\\nOn the third day of the match, Australia was batting in their second innings, chasing a target of 330 runs to win. The Australians had started the day well, with openers David Boon and Mark Taylor putting on a 100-run partnership. However, once Taylor was dismissed, the innings began to unravel, and Ambrose was the main force behind Australia's downfall.\\n\\nAmbrose's spell began in the 38th over of the innings, with Australia on 143/2. He started by dismissing Boon, who edged a delivery to the wicketkeeper, and then proceeded to remove the next three batsmen - Steve Waugh, Allan Border, and Mark Waugh - in quick succession.\\n\\nAmbrose's deliveries were fast, full, and accuracy personified. He consistently bowled in the channel outside off stump, making it difficult for the batsmen to score runs. His length was immaculate, and he got the ball to move both ways off the wicket, leaving the batsmen guessing. The Australians were unable to cope with the pace and movement of Ambrose's bowling, and they struggled to score runs.\\n\\nThe highlight of Ambrose's spell was his dismissal of Steve Waugh, who was considered one of the best batsmen in the world at the time. Waugh was caught at slip by Brian Lara, who took a brilliant catch diving to his left. The dismissal was a result of Ambrose's sheer pace and accuracy, as he had Waugh caught in two minds, unsure whether to play forward or back.\\n\\nAmbrose's spell of 7-1-22-4 not only helped West Indies win the match but also left a lasting impact on world cricket. His performance was a reminder of the devastating power of fast bowling and its ability to dictate the outcome of a match.\\n\\nThe spell was also significant because it came against a strong Australian team that had dominated world cricket in the late 1980s and early 1990s. Ambrose's performance was a statement of West Indies' resurgence as a cricketing powerhouse, and it marked the beginning of a new era of success for the team.\\n\\nIn the end, West Indies won the match by 145 runs, and Ambrose was named Man of the Match for his outstanding bowling performance. His spell against Australia is still remembered as one of the greatest in Test cricket history, and it solidified his reputation as one of the greatest fast bowlers the game has ever seen.\"], 'meta': [{'model': 'Llama-2-70b-chat', 'index': 0, 'finish_reason': 'stop', 'usage': {'completion_tokens': 694, 'prompt_tokens': 29, 'total_tokens': 723}}]}\n"
        }
      ],
      "execution_count": 8,
      "metadata": {
        "jupyter": {
          "source_hidden": false,
          "outputs_hidden": false
        },
        "nteract": {
          "transient": {
            "deleting": false
          }
        },
        "gather": {
          "logged": 1710747412885
        }
      }
    },
    {
      "cell_type": "code",
      "source": [],
      "outputs": [],
      "execution_count": null,
      "metadata": {
        "jupyter": {
          "source_hidden": false,
          "outputs_hidden": false
        },
        "nteract": {
          "transient": {
            "deleting": false
          }
        }
      }
    }
  ],
  "metadata": {
    "kernelspec": {
      "name": "python310-sdkv2",
      "language": "python",
      "display_name": "Python 3.10 - SDK v2"
    },
    "language_info": {
      "name": "python",
      "version": "3.10.11",
      "mimetype": "text/x-python",
      "codemirror_mode": {
        "name": "ipython",
        "version": 3
      },
      "pygments_lexer": "ipython3",
      "nbconvert_exporter": "python",
      "file_extension": ".py"
    },
    "microsoft": {
      "ms_spell_check": {
        "ms_spell_check_language": "en"
      },
      "host": {
        "AzureML": {
          "notebookHasBeenCompleted": true
        }
      }
    },
    "kernel_info": {
      "name": "python310-sdkv2"
    },
    "nteract": {
      "version": "nteract-front-end@1.0.0"
    }
  },
  "nbformat": 4,
  "nbformat_minor": 2
}