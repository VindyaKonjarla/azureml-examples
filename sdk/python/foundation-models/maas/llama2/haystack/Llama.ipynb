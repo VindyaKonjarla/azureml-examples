{
  "cells": [
    {
      "cell_type": "code",
      "execution_count": null,
      "metadata": {},
      "outputs": [],
      "source": [
        "%pip install haystack-ai"
      ]
    },
    {
      "cell_type": "code",
      "execution_count": null,
      "metadata": {
        "gather": {
          "logged": 1710747208430
        },
        "jupyter": {
          "outputs_hidden": false,
          "source_hidden": false
        },
        "nteract": {
          "transient": {
            "deleting": false
          }
        }
      },
      "outputs": [],
      "source": [
        "import os\n",
        "from haystack.utils import Secret"
      ]
    },
    {
      "cell_type": "code",
      "execution_count": null,
      "metadata": {
        "gather": {
          "logged": 1710747223532
        },
        "jupyter": {
          "outputs_hidden": false,
          "source_hidden": false
        },
        "nteract": {
          "transient": {
            "deleting": false
          }
        }
      },
      "outputs": [],
      "source": [
        "# Llama2-70b chat\n",
        "from haystack.components.generators import OpenAIGenerator\n",
        "\n",
        "os.environ[\"OPENAI_API_KEY\"] = \"YOUR_AZUREAI_API_KEY\"\n",
        "\n",
        "client = OpenAIGenerator(\n",
        "    api_key=Secret.from_env_var(\"OPENAI_API_KEY\"),\n",
        "    api_base_url = \"YOUR_AZUREAI_API_URL\"\n",
        "    )"
      ]
    },
    {
      "cell_type": "code",
      "execution_count": 8,
      "metadata": {
        "gather": {
          "logged": 1710747412885
        },
        "jupyter": {
          "outputs_hidden": false,
          "source_hidden": false
        },
        "nteract": {
          "transient": {
            "deleting": false
          }
        }
      },
      "outputs": [
        {
          "name": "stdout",
          "output_type": "stream",
          "text": [
            "{'replies': [\"  The iconic bowling spell of Curtly Ambrose against Australia in a Test match refers to the remarkable performance of the West Indian fast bowler during the 1992-1993 Frank Worrell Trophy series. In the first Test match of the series, played at the Kensington Oval in Barbados, Ambrose delivered a devastating spell of fast bowling that left the Australian batting line-up in tatters.\\n\\nOn the third day of the match, Australia was batting in their second innings, chasing a target of 330 runs to win. The Australians had started the day well, with openers David Boon and Mark Taylor putting on a 100-run partnership. However, once Taylor was dismissed, the innings began to unravel, and Ambrose was the main force behind Australia's downfall.\\n\\nAmbrose's spell began in the 38th over of the innings, with Australia on 143/2. He started by dismissing Boon, who edged a delivery to the wicketkeeper, and then proceeded to remove the next three batsmen - Steve Waugh, Allan Border, and Mark Waugh - in quick succession.\\n\\nAmbrose's deliveries were fast, full, and accuracy personified. He consistently bowled in the channel outside off stump, making it difficult for the batsmen to score runs. His length was immaculate, and he got the ball to move both ways off the wicket, leaving the batsmen guessing. The Australians were unable to cope with the pace and movement of Ambrose's bowling, and they struggled to score runs.\\n\\nThe highlight of Ambrose's spell was his dismissal of Steve Waugh, who was considered one of the best batsmen in the world at the time. Waugh was caught at slip by Brian Lara, who took a brilliant catch diving to his left. The dismissal was a result of Ambrose's sheer pace and accuracy, as he had Waugh caught in two minds, unsure whether to play forward or back.\\n\\nAmbrose's spell of 7-1-22-4 not only helped West Indies win the match but also left a lasting impact on world cricket. His performance was a reminder of the devastating power of fast bowling and its ability to dictate the outcome of a match.\\n\\nThe spell was also significant because it came against a strong Australian team that had dominated world cricket in the late 1980s and early 1990s. Ambrose's performance was a statement of West Indies' resurgence as a cricketing powerhouse, and it marked the beginning of a new era of success for the team.\\n\\nIn the end, West Indies won the match by 145 runs, and Ambrose was named Man of the Match for his outstanding bowling performance. His spell against Australia is still remembered as one of the greatest in Test cricket history, and it solidified his reputation as one of the greatest fast bowlers the game has ever seen.\"], 'meta': [{'model': 'Llama-2-70b-chat', 'index': 0, 'finish_reason': 'stop', 'usage': {'completion_tokens': 694, 'prompt_tokens': 29, 'total_tokens': 723}}]}\n"
          ]
        }
      ],
      "source": [
        "response = client.run(\"Tell me about the iconic bowling spell of curtly Ambrose against Australia in test match\")\n",
        "print(response)"
      ]
    },
    {
      "cell_type": "code",
      "execution_count": null,
      "metadata": {
        "jupyter": {
          "outputs_hidden": false,
          "source_hidden": false
        },
        "nteract": {
          "transient": {
            "deleting": false
          }
        }
      },
      "outputs": [],
      "source": []
    }
  ],
  "metadata": {
    "kernel_info": {
      "name": "python310-sdkv2"
    },
    "kernelspec": {
      "display_name": "Python 3.10 - SDK v2",
      "language": "python",
      "name": "python310-sdkv2"
    },
    "language_info": {
      "codemirror_mode": {
        "name": "ipython",
        "version": 3
      },
      "file_extension": ".py",
      "mimetype": "text/x-python",
      "name": "python",
      "nbconvert_exporter": "python",
      "pygments_lexer": "ipython3",
      "version": "3.10.11"
    },
    "microsoft": {
      "host": {
        "AzureML": {
          "notebookHasBeenCompleted": true
        }
      },
      "ms_spell_check": {
        "ms_spell_check_language": "en"
      }
    },
    "nteract": {
      "version": "nteract-front-end@1.0.0"
    }
  },
  "nbformat": 4,
  "nbformat_minor": 2
}
