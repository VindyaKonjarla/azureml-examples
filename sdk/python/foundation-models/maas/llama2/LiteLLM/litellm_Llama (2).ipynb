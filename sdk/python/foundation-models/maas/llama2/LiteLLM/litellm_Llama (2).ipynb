{
  "cells": [
    {
      "cell_type": "markdown",
      "source": [
        "# Use litellm with Llama2 in Azure AI and Azure ML\n",
        "\n",
        "Use `litellm` to consume Llama2 family of model deployments in Azure AI and Azure ML."
      ],
      "metadata": {}
    },
    {
      "cell_type": "markdown",
      "source": [
        "## Prerequisites\n",
        "\n",
        "Before we start, there are certain steps we need to take to deploy the models:\n",
        "\n",
        "* Register for a valid Azure account with subscription \n",
        "* Make sure you have access to [Azure AI Studio](https://learn.microsoft.com/en-us/azure/ai-studio/what-is-ai-studio?tabs=home)\n",
        "* Create a project and resource group\n",
        "* Select Llama models from Model catalog. This example assumes you are deploying `LLama-2-70b-chat`.\n",
        "\n",
        "    > Notice that some models may not be available in all the regions in Azure AI and Azure Machine Learning. On those cases, you can create a workspace or project in the region where the models are available and then consume it with a connection from a different one. To learn more about using connections see [Consume models with connections](https://learn.microsoft.com/en-us/azure/ai-studio/how-to/deployments-connections)\n",
        "\n",
        "* Deploy with \"Pay-as-you-go\"\n",
        "\n",
        "Once deployed successfully, you should be assigned for an API endpoint and a security key for inference. \n",
        "\n",
        "For more information, you should consult Azure's official documentation [here](https://learn.microsoft.com/en-us/azure/ai-studio/how-to/deploy-models-llama) for model deployment and inference.\n",
        "\n",
        "To complete this tutorial, you will need to:\n",
        "\n",
        "* Install `litellm`:\n",
        "\n",
        "    ```bash\n",
        "    pip install litellm\n",
        "    ```"
      ],
      "metadata": {}
    },
    {
      "cell_type": "markdown",
      "source": [
        "## Example\n",
        "\n",
        "The following is an example about how to use `litellm` with a Llama2 chat model deployed in Azure AI and Azure ML. Llama2 supports both chat and text completions APIs."
      ],
      "metadata": {}
    },
    {
      "cell_type": "code",
      "source": [
        "%pip install litellm"
      ],
      "outputs": [
       
      ],
      "execution_count": 1,
      "metadata": {
        "jupyter": {
          "source_hidden": false,
          "outputs_hidden": true
        },
        "nteract": {
          "transient": {
            "deleting": false
          }
        }
      }
    },
    {
      "cell_type": "code",
      "source": [
        "import litellm"
      ],
      "outputs": [],
      "execution_count": 1,
      "metadata": {
        "name": "imports",
        "gather": {
          "logged": 1709199572462
        }
      }
    },
    {
      "cell_type": "markdown",
      "source": [
        "You will need to have a Endpoint url and Authentication Key associated with that endpoint. This can be acquired from previous steps. To work with `litellm`, configure the client as follows:\n",
        "\n",
        "- `base_url`: Use the endpoint URL from your deployment. Include the `/v1` in the URL.\n",
        "- `api_key`: Use your API key."
      ],
      "metadata": {}
    },
    {
      "cell_type": "code",
      "source": [
        "client = litellm.LiteLLM(\n",
        "    base_url=\"https://<endpoint-name>.<region>.inference.ai.azure.com/v1\",\n",
        "    api_key=\"<key>\",\n",
        ")"
      ],
      "outputs": [],
      "execution_count": 8,
      "metadata": {
        "name": "chat_client",
        "gather": {
          "logged": 1709199746596
        }
      }
    },
    {
      "cell_type": "markdown",
      "source": [
        "Use the client to create chat completions requests:"
      ],
      "metadata": {}
    },
    {
      "cell_type": "code",
      "source": [
        "response = client.chat.completions.create(\n",
        "    messages=[{\"content\": \"Who is the most renowned French painter?\", \"role\": \"user\"}],\n",
        "    model=\"llama2\",\n",
        "    custom_llm_provider=\"custom_openai\",\n",
        ")"
      ],
      "outputs": [
       
      ],
      "execution_count": 9,
      "metadata": {
        "name": "chat_invoke",
        "gather": {
          "logged": 1709199766069
        },
        "jupyter": {
          "outputs_hidden": true
        }
      }
    },
    {
      "cell_type": "markdown",
      "source": [
        "The generated text can be accessed as follows:"
      ],
      "metadata": {}
    },
    {
      "cell_type": "code",
      "source": [
        "print(response.choices[0].message.content)"
      ],
      "outputs": [
       
      ],
      "execution_count": 5,
      "metadata": {
        "name": "chat_response",
        "gather": {
          "logged": 1709126822509
        },
        "jupyter": {
          "outputs_hidden": true
        }
      }
    }
  ],
  "metadata": {
    "kernelspec": {
      "name": "python310-sdkv2",
      "language": "python",
      "display_name": "Python 3.10 - SDK v2"
    },
    "language_info": {
      "name": "python",
      "version": "3.10.11",
      "mimetype": "text/x-python",
      "codemirror_mode": {
        "name": "ipython",
        "version": 3
      },
      "pygments_lexer": "ipython3",
      "nbconvert_exporter": "python",
      "file_extension": ".py"
    },
    "microsoft": {
      "ms_spell_check": {
        "ms_spell_check_language": "en"
      },
      "host": {
        "AzureML": {
          "notebookHasBeenCompleted": true
        }
      }
    },
    "kernel_info": {
      "name": "python310-sdkv2"
    },
    "nteract": {
      "version": "nteract-front-end@1.0.0"
    }
  },
  "nbformat": 4,
  "nbformat_minor": 2
}
