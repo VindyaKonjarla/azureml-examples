{
  "cells": [
    {
      "cell_type": "markdown",
      "source": [
        "# Use litellm with Llama2 in Azure AI and Azure ML\n",
        "\n",
        "Use `litellm` to consume Llama2 family of model deployments in Azure AI and Azure ML."
      ],
      "metadata": {}
    },
    {
      "cell_type": "markdown",
      "source": [
        "## Prerequisites\n",
        "\n",
        "Before we start, there are certain steps we need to take to deploy the models:\n",
        "\n",
        "* Register for a valid Azure account with subscription \n",
        "* Make sure you have access to [Azure AI Studio](https://learn.microsoft.com/en-us/azure/ai-studio/what-is-ai-studio?tabs=home)\n",
        "* Create a project and resource group\n",
        "* Select Llama models from Model catalog. This example assumes you are deploying `LLama-2-70b-chat`.\n",
        "\n",
        "    > Notice that some models may not be available in all the regions in Azure AI and Azure Machine Learning. On those cases, you can create a workspace or project in the region where the models are available and then consume it with a connection from a different one. To learn more about using connections see [Consume models with connections](https://learn.microsoft.com/en-us/azure/ai-studio/how-to/deployments-connections)\n",
        "\n",
        "* Deploy with \"Pay-as-you-go\"\n",
        "\n",
        "Once deployed successfully, you should be assigned for an API endpoint and a security key for inference. \n",
        "\n",
        "For more information, you should consult Azure's official documentation [here](https://learn.microsoft.com/en-us/azure/ai-studio/how-to/deploy-models-llama) for model deployment and inference.\n",
        "\n",
        "To complete this tutorial, you will need to:\n",
        "\n",
        "* Install `litellm`:\n",
        "\n",
        "    ```bash\n",
        "    pip install litellm\n",
        "    ```"
      ],
      "metadata": {}
    },
    {
      "cell_type": "markdown",
      "source": [
        "## Example\n",
        "\n",
        "The following is an example about how to use `litellm` with a Llama2 chat model deployed in Azure AI and Azure ML. Llama2 supports both chat and text completions APIs."
      ],
      "metadata": {}
    },
    {
      "cell_type": "code",
      "source": [
        "%pip install litellm"
      ],
      "outputs": [
       
      ],
      "execution_count": 1,
      "metadata": {
        "jupyter": {
          "source_hidden": false,
          "outputs_hidden": true
        },
        "nteract": {
          "transient": {
            "deleting": false
          }
        }
      }
    },
    {
      "cell_type": "code",
      "source": [
        "import litellm"
      ],
      "outputs": [],
      "execution_count": 1,
      "metadata": {
        "name": "imports",
        "gather": {
          "logged": 1709199572462
        }
      }
    },
    {
      "cell_type": "markdown",
      "source": [
        "You will need to have a Endpoint url and Authentication Key associated with that endpoint. This can be acquired from previous steps. To work with `litellm`, configure the client as follows:\n",
        "\n",
        "- `base_url`: Use the endpoint URL from your deployment. Include the `/v1` in the URL.\n",
        "- `api_key`: Use your API key."
      ],
      "metadata": {}
    },
    {
      "cell_type": "code",
      "source": [
        "client = litellm.LiteLLM(\n",
        "    base_url=\"https://<endpoint-name>.<region>.inference.ai.azure.com/v1\",\n",
        "    api_key=\"<key>\",\n",
        ")"
      ],
      "outputs": [],
      "execution_count": 8,
      "metadata": {
        "name": "chat_client",
        "gather": {
          "logged": 1709199746596
        }
      }
    },
    {
      "cell_type": "markdown",
      "source": [
        "Use the client to create chat completions requests:"
      ],
      "metadata": {}
    },
    {
      "cell_type": "code",
      "source": [
        "response = client.chat.completions.create(\n",
        "    messages=[{\"content\": \"Who is the most renowned French painter?\", \"role\": \"user\"}],\n",
        "    model=\"llama2\",\n",
        "    custom_llm_provider=\"custom_openai\",\n",
        ")"
      ],
      "outputs": [
        {
          "output_type": "stream",
          "name": "stderr",
          "text": "Exception in thread Thread-6 (success_handler):\nTraceback (most recent call last):\n  File \"/anaconda/envs/azureml_py310_sdkv2/lib/python3.10/site-packages/litellm/utils.py\", line 1141, in _success_handler_helper_fn\n    litellm.completion_cost(\n  File \"/anaconda/envs/azureml_py310_sdkv2/lib/python3.10/site-packages/litellm/utils.py\", line 3719, in completion_cost\n    raise e\n  File \"/anaconda/envs/azureml_py310_sdkv2/lib/python3.10/site-packages/litellm/utils.py\", line 3648, in completion_cost\n    raise ValueError(\nValueError: Model is None and does not exist in passed completion_response. Passed completion_response=ModelResponse(id='112cc759-2eba-4b57-a0b0-6bf0eaa7cd23', choices=[Choices(finish_reason='stop', index=0, message=Message(content='  There have been many renowned French painters throughout history, but some of the most famous and influential include:\\n\\n1. Claude Monet (1840-1926): A leading figure in the Impressionist movement, Monet is known for his paintings of landscapes, gardens, and cities, such as \"Impression, Sunrise\" and \"Water Lilies.\"\\n2. Pierre-Auguste Renoir (1841-1919): A prominent painter of the Impressionist movement, Renoir is known for his vibrant and lively portraits and landscapes, such as \"The Luncheon of the Boating Party\" and \"Girl with a Hoop.\"\\n3. Paul Cézanne (1839-1906): A pioneering artist who bridged the gap between Impressionism and Post-Impressionism, Cézanne is known for his still lifes, landscapes, and portraits, such as \"The Bathers\" and \"Apples and Oranges.\"\\n4. Vincent van Gogh (1853-1890): Although he was not French by birth, van Gogh spent much of his life in France and is considered one of the greatest painters of all time. His bold and expressive works, such as \"Sunflowers\" and \"Starry Night,\" are iconic examples of Post-Impressionism.\\n5. Jean-Michel Basquiat (1960-1988): A contemporary artist who rose to fame in the 1980s, Basquiat is known for his vibrant and expressive paintings that combine elements of graffiti, hip-hop, and African American culture, such as \"Untitled\" and \"Skull.\"\\n\\nThese artists, among others, have contributed to France\\'s rich artistic heritage and have had a significant impact on the development of modern art.', role='assistant'))], created=673895, model=None, object='chat.completion', system_fingerprint=None, usage=Usage(completion_tokens=435, prompt_tokens=17, total_tokens=452)), model=None\n\nDuring handling of the above exception, another exception occurred:\n\nTraceback (most recent call last):\n  File \"/anaconda/envs/azureml_py310_sdkv2/lib/python3.10/threading.py\", line 1016, in _bootstrap_inner\n    self.run()\n  File \"/anaconda/envs/azureml_py310_sdkv2/lib/python3.10/threading.py\", line 953, in run\n    self._target(*self._args, **self._kwargs)\n  File \"/anaconda/envs/azureml_py310_sdkv2/lib/python3.10/site-packages/litellm/utils.py\", line 1181, in success_handler\n    start_time, end_time, result = self._success_handler_helper_fn(\n  File \"/anaconda/envs/azureml_py310_sdkv2/lib/python3.10/site-packages/litellm/utils.py\", line 1175, in _success_handler_helper_fn\n    raise Exception(f\"[Non-Blocking] LiteLLM.Success_Call Error: {str(e)}\")\nException: [Non-Blocking] LiteLLM.Success_Call Error: Model is None and does not exist in passed completion_response. Passed completion_response=ModelResponse(id='112cc759-2eba-4b57-a0b0-6bf0eaa7cd23', choices=[Choices(finish_reason='stop', index=0, message=Message(content='  There have been many renowned French painters throughout history, but some of the most famous and influential include:\\n\\n1. Claude Monet (1840-1926): A leading figure in the Impressionist movement, Monet is known for his paintings of landscapes, gardens, and cities, such as \"Impression, Sunrise\" and \"Water Lilies.\"\\n2. Pierre-Auguste Renoir (1841-1919): A prominent painter of the Impressionist movement, Renoir is known for his vibrant and lively portraits and landscapes, such as \"The Luncheon of the Boating Party\" and \"Girl with a Hoop.\"\\n3. Paul Cézanne (1839-1906): A pioneering artist who bridged the gap between Impressionism and Post-Impressionism, Cézanne is known for his still lifes, landscapes, and portraits, such as \"The Bathers\" and \"Apples and Oranges.\"\\n4. Vincent van Gogh (1853-1890): Although he was not French by birth, van Gogh spent much of his life in France and is considered one of the greatest painters of all time. His bold and expressive works, such as \"Sunflowers\" and \"Starry Night,\" are iconic examples of Post-Impressionism.\\n5. Jean-Michel Basquiat (1960-1988): A contemporary artist who rose to fame in the 1980s, Basquiat is known for his vibrant and expressive paintings that combine elements of graffiti, hip-hop, and African American culture, such as \"Untitled\" and \"Skull.\"\\n\\nThese artists, among others, have contributed to France\\'s rich artistic heritage and have had a significant impact on the development of modern art.', role='assistant'))], created=673895, model=None, object='chat.completion', system_fingerprint=None, usage=Usage(completion_tokens=435, prompt_tokens=17, total_tokens=452)), model=None\n"
        }
      ],
      "execution_count": 9,
      "metadata": {
        "name": "chat_invoke",
        "gather": {
          "logged": 1709199766069
        },
        "jupyter": {
          "outputs_hidden": true
        }
      }
    },
    {
      "cell_type": "markdown",
      "source": [
        "The generated text can be accessed as follows:"
      ],
      "metadata": {}
    },
    {
      "cell_type": "code",
      "source": [
        "print(response.choices[0].message.content)"
      ],
      "outputs": [
        {
          "output_type": "stream",
          "name": "stdout",
          "text": "  There are many renowned French painters throughout history, but some of the most famous and influential include:\n\n1. Claude Monet: Known as the founder of Impressionism, Monet is famous for his paintings of gardens, landscapes, and cities. His most famous works include \"Impression, Sunrise\" and \"Water Lilies.\"\n2. Pierre-Auguste Renoir: A leading figure in the development of Impressionism, Renoir is known for his vibrant paintings of people and landscapes. His most famous works include \"Dance at Le Moulin de la Galette\" and \"The Luncheon of the Boating Party.\"\n3. Jean-Michel Basquiat: A contemporary artist known for his unique blend of graffiti and abstract expressionism, Basquiat is famous for his bold and expressive paintings that explore themes of race, identity, and social justice. His most famous works include \"Untitled\" and \"Skull.\"\n4. Paul Cézanne: A post-Impressionist painter, Cézanne is known for his still lifes and landscapes, which emphasize geometric forms and bold colors. His most famous works include \"The Bathers\" and \"Apples and Oranges.\"\n5. Henri Matisse: A leading figure in the development of modern art, Matisse is known for his vibrant and expressive paintings, sculptures, and prints. His most famous works include \"The Dance\" and \"The Red Studio.\"\n6. Gustave Courbet: An influential painter of the 19th century, Courbet is known for his realistic and often controversial paintings, which challenged the traditional artistic conventions of his time. His most famous works include \"The Stone Breakers\" and \"The Origin of the World.\"\n7. Edgar Degas: A leading figure in the development of Impressionism, Degas is known for his paintings of dancers, racehorses, and women bathing. His most famous works include \"The Dance Class\" and \"The Tub.\"\n8. Mary Cassatt: An American Impressionist painter who lived in France, Cassatt is known for her paintings of women and children, which emphasize the intimate and domestic aspects of life. Her most famous works include \"The Child's Bath\" and \"Little Girl in a Blue Armchair.\"\n\nThese are just a few examples of renowned French painters, but there are many others who have made significant contributions to the art world.\n"
        }
      ],
      "execution_count": 5,
      "metadata": {
        "name": "chat_response",
        "gather": {
          "logged": 1709126822509
        },
        "jupyter": {
          "outputs_hidden": true
        }
      }
    }
  ],
  "metadata": {
    "kernelspec": {
      "name": "python310-sdkv2",
      "language": "python",
      "display_name": "Python 3.10 - SDK v2"
    },
    "language_info": {
      "name": "python",
      "version": "3.10.11",
      "mimetype": "text/x-python",
      "codemirror_mode": {
        "name": "ipython",
        "version": 3
      },
      "pygments_lexer": "ipython3",
      "nbconvert_exporter": "python",
      "file_extension": ".py"
    },
    "microsoft": {
      "ms_spell_check": {
        "ms_spell_check_language": "en"
      },
      "host": {
        "AzureML": {
          "notebookHasBeenCompleted": true
        }
      }
    },
    "kernel_info": {
      "name": "python310-sdkv2"
    },
    "nteract": {
      "version": "nteract-front-end@1.0.0"
    }
  },
  "nbformat": 4,
  "nbformat_minor": 2
}
