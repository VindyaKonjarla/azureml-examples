{
  "cells": [
    {
      "cell_type": "markdown",
      "source": [
        "# Use litellm with Mistral in Azure AI and Azure ML\n",
        "\n",
        "Use `litellm` to consume Mistral deployments in Azure AI and Azure ML. Notice that Mistral supports only chat completions API.\n",
        "\n",
        "> Review the [documentation](https://learn.microsoft.com/en-us/azure/ai-studio/how-to/deploy-models-mistral) for the Mistral family of models at for AI Studio and for ML Studio for details on how to provision inference endpoints, regional availability, pricing and inference schema reference."
      ],
      "metadata": {}
    },
    {
      "cell_type": "markdown",
      "source": [
        "## Prerequisites\n",
        "\n",
        "Before we start, there are certain steps we need to take to deploy the models:\n",
        "\n",
        "* Register for a valid Azure account with subscription \n",
        "* Make sure you have access to [Azure AI Studio](https://learn.microsoft.com/en-us/azure/ai-studio/what-is-ai-studio?tabs=home)\n",
        "* Create a project and resource group\n",
        "* Select `Mistral-large`.\n",
        "\n",
        "    > Notice that some models may not be available in all the regions in Azure AI and Azure Machine Learning. On those cases, you can create a workspace or project in the region where the models are available and then consume it with a connection from a different one. To learn more about using connections see [Consume models with connections](https://learn.microsoft.com/en-us/azure/ai-studio/how-to/deployments-connections)\n",
        "\n",
        "* Deploy with \"Pay-as-you-go\"\n",
        "\n",
        "Once deployed successfully, you should be assigned for an API endpoint and a security key for inference.\n",
        "\n",
        "For more information, you should consult Azure's official documentation [here](https://learn.microsoft.com/en-us/azure/ai-studio/how-to/deploy-models-llama) for model deployment and inference.\n",
        "\n",
        "To complete this tutorial, you will need to:\n",
        "\n",
        "* Install `litellm`:\n",
        "\n",
        "    ```bash\n",
        "    pip install litellm\n",
        "    ```"
      ],
      "metadata": {}
    },
    {
      "cell_type": "markdown",
      "source": [
        "## Example\n",
        "\n",
        "The following is an example about how to use `litellm` with a Mistral model deployed in Azure AI and Azure ML:"
      ],
      "metadata": {}
    },
    {
      "cell_type": "code",
      "source": [
        "%pip install litellm"
      ],
      "outputs": [],
      "execution_count": null,
      "metadata": {
        "jupyter": {
          "source_hidden": false,
          "outputs_hidden": false
        },
        "nteract": {
          "transient": {
            "deleting": false
          }
        }
      }
    },
    {
      "cell_type": "code",
      "source": [
        "import litellm\n",
        "from dotenv import load_dotenv\n",
        "import os"
      ],
      "outputs": [],
      "execution_count": null,
      "metadata": {
        "jupyter": {
          "source_hidden": false,
          "outputs_hidden": false
        },
        "nteract": {
          "transient": {
            "deleting": false
          }
        }
      }
    },
    {
      "cell_type": "code",
      "source": [
        "load_dotenv(\"config.env\")\n",
        "api_key=os.getenv(\"api_key\")\n",
        "api_base=os.getenv(\"api_base\")"
      ],
      "outputs": [],
      "execution_count": null,
      "metadata": {
        "jupyter": {
          "source_hidden": false,
          "outputs_hidden": false
        },
        "nteract": {
          "transient": {
            "deleting": false
          }
        }
      }
    },
    {
      "cell_type": "markdown",
      "source": [
        "You will need to have a Endpoint url and Authentication Key associated with that endpoint. This can be acquired from previous steps. To work with `litellm`, configure the client as follows:\n",
        "\n",
        "- `base_url`: Use the endpoint URL from your deployment. Include the `/v1` in the URL.\n",
        "- `api_key`: Use your API key."
      ],
      "metadata": {}
    },
    {
      "cell_type": "code",
      "source": [
        "client = litellm.LiteLLM(\n",
        "    base_url=api_key,\n",
        "    api_key=api_base,\n",
        ")\n"
      ],
      "outputs": [],
      "execution_count": null,
      "metadata": {
        "jupyter": {
          "source_hidden": false,
          "outputs_hidden": false
        },
        "nteract": {
          "transient": {
            "deleting": false
          }
        }
      }
    },
    {
      "cell_type": "markdown",
      "source": [
        "Use the client to create chat completions requests:"
      ],
      "metadata": {}
    },
    {
      "cell_type": "code",
      "source": [
        "response = client.chat.completions.create(\n",
        "    messages=[{\"content\": \"Who is the most renowned French painter?\", \"role\": \"user\"}],\n",
        "    model=\"mistral\",\n",
        "    custom_llm_provider=\"custom_openai\",\n",
        ")"
      ],
      "outputs": [],
      "execution_count": null,
      "metadata": {
        "jupyter": {
          "source_hidden": false,
          "outputs_hidden": false
        },
        "nteract": {
          "transient": {
            "deleting": false
          }
        }
      }
    },
    {
      "cell_type": "markdown",
      "source": [
        "The generated text can be accessed as follows:"
      ],
      "metadata": {}
    },
    {
      "cell_type": "code",
      "source": [
        "print(response.choices[0].message.content)"
      ],
      "outputs": [],
      "execution_count": null,
      "metadata": {
        "jupyter": {
          "source_hidden": false,
          "outputs_hidden": false
        },
        "nteract": {
          "transient": {
            "deleting": false
          }
        }
      }
    },
    {
      "cell_type": "markdown",
      "source": [],
      "metadata": {}
    }
  ],
  "metadata": {
    "kernelspec": {
      "name": "python310-sdkv2",
      "language": "python",
      "display_name": "Python 3.10 - SDK v2"
    },
    "language_info": {
      "name": "python",
      "version": "3.10.11",
      "mimetype": "text/x-python",
      "codemirror_mode": {
        "name": "ipython",
        "version": 3
      },
      "pygments_lexer": "ipython3",
      "nbconvert_exporter": "python",
      "file_extension": ".py"
    },
    "microsoft": {
      "ms_spell_check": {
        "ms_spell_check_language": "en"
      },
      "host": {
        "AzureML": {
          "notebookHasBeenCompleted": true
        }
      }
    },
    "kernel_info": {
      "name": "python310-sdkv2"
    },
    "nteract": {
      "version": "nteract-front-end@1.0.0"
    }
  },
  "nbformat": 4,
  "nbformat_minor": 2
}