{
  "cells": [
    {
      "cell_type": "markdown",
      "source": [
        "# Use litellm with Mistral in Azure AI and Azure ML\n",
        "\n",
        "Use `litellm` to consume Mistral deployments in Azure AI and Azure ML. Notice that Mistral supports only chat completions API.\n",
        "\n",
        "> Review the [documentation](https://learn.microsoft.com/en-us/azure/ai-studio/how-to/deploy-models-mistral) for the Mistral family of models at for AI Studio and for ML Studio for details on how to provision inference endpoints, regional availability, pricing and inference schema reference."
      ],
      "metadata": {}
    },
    {
      "cell_type": "markdown",
      "source": [
        "## Prerequisites\n",
        "\n",
        "Before we start, there are certain steps we need to take to deploy the models:\n",
        "\n",
        "* Register for a valid Azure account with subscription \n",
        "* Make sure you have access to [Azure AI Studio](https://learn.microsoft.com/en-us/azure/ai-studio/what-is-ai-studio?tabs=home)\n",
        "* Create a project and resource group\n",
        "* Select `Mistral-large`.\n",
        "\n",
        "    > Notice that some models may not be available in all the regions in Azure AI and Azure Machine Learning. On those cases, you can create a workspace or project in the region where the models are available and then consume it with a connection from a different one. To learn more about using connections see [Consume models with connections](https://learn.microsoft.com/en-us/azure/ai-studio/how-to/deployments-connections)\n",
        "\n",
        "* Deploy with \"Pay-as-you-go\"\n",
        "\n",
        "Once deployed successfully, you should be assigned for an API endpoint and a security key for inference.\n",
        "\n",
        "For more information, you should consult Azure's official documentation [here](https://learn.microsoft.com/en-us/azure/ai-studio/how-to/deploy-models-llama) for model deployment and inference.\n",
        "\n",
        "To complete this tutorial, you will need to:\n",
        "\n",
        "* Install `litellm`:\n",
        "\n",
        "    ```bash\n",
        "    pip install litellm\n",
        "    ```"
      ],
      "metadata": {}
    },
    {
      "cell_type": "markdown",
      "source": [
        "## Example\n",
        "\n",
        "The following is an example about how to use `litellm` with a Mistral model deployed in Azure AI and Azure ML:"
      ],
      "metadata": {}
    },
    {
      "cell_type": "code",
      "source": [
        "%pip install litellm"
      ],
      "outputs": [
       
      ],
      "execution_count": 1,
      "metadata": {
        "jupyter": {
          "source_hidden": false,
          "outputs_hidden": true
        },
        "nteract": {
          "transient": {
            "deleting": false
          }
        }
      }
    },
    {
      "cell_type": "code",
      "source": [
        "import litellm\n",
        "from dotenv import load_dotenv\n",
        "import os"
      ],
      "outputs": [],
      "execution_count": null,
      "metadata": {
        "jupyter": {
          "source_hidden": false,
          "outputs_hidden": false
        },
        "nteract": {
          "transient": {
            "deleting": false
          }
        }
      }
    },
    {
      "cell_type": "code",
      "source": [
        "load_dotenv(\"config.env\")\n",
        "api_key=os.getenv(\"api_key\")\n",
        "api_base=os.getenv(\"api_base\")"
      ],
      "outputs": [],
      "execution_count": null,
      "metadata": {
        "jupyter": {
          "source_hidden": false,
          "outputs_hidden": false
        },
        "nteract": {
          "transient": {
            "deleting": false
          }
        }
      }
    },
    {
      "cell_type": "markdown",
      "source": [
        "You will need to have a Endpoint url and Authentication Key associated with that endpoint. This can be acquired from previous steps. To work with `litellm`, configure the client as follows:\n",
        "\n",
        "- `base_url`: Use the endpoint URL from your deployment. Include the `/v1` in the URL.\n",
        "- `api_key`: Use your API key."
      ],
      "metadata": {}
    },
    {
      "cell_type": "code",
      "source": [
        "client = litellm.LiteLLM(\n",
        "    base_url=\"https://<endpoint-name>.<region>.inference.ai.azure.com/v1\",\n",
        "    api_key=\"<key>\",\n",
        ")\n"
      ],
      "outputs": [],
      "execution_count": 5,
      "metadata": {
        "name": "chat_client",
        "gather": {
          "logged": 1709291324934
        }
      }
    },
    {
      "cell_type": "markdown",
      "source": [
        "Use the client to create chat completions requests:"
      ],
      "metadata": {}
    },
    {
      "cell_type": "code",
      "source": [
        "response = client.chat.completions.create(\n",
        "    messages=[{\"content\": \"Who is the most renowned French painter?\", \"role\": \"user\"}],\n",
        "    model=\"mistral\",\n",
        "    custom_llm_provider=\"custom_openai\",\n",
        ")"
      ],
      "outputs": [
        {
          "output_type": "stream",
          "name": "stderr",
          "text": "Exception in thread Thread-5 (success_handler):\nTraceback (most recent call last):\n  File \"/anaconda/envs/azureml_py310_sdkv2/lib/python3.10/site-packages/litellm/utils.py\", line 1141, in _success_handler_helper_fn\n    litellm.completion_cost(\n  File \"/anaconda/envs/azureml_py310_sdkv2/lib/python3.10/site-packages/litellm/utils.py\", line 3719, in completion_cost\n    raise e\n  File \"/anaconda/envs/azureml_py310_sdkv2/lib/python3.10/site-packages/litellm/utils.py\", line 3648, in completion_cost\n    raise ValueError(\nValueError: Model is None and does not exist in passed completion_response. Passed completion_response=ModelResponse(id='40eba3a2-e6a6-4d3b-853e-9280cb21bec3', choices=[Choices(finish_reason='stop', index=0, message=Message(content='  There are many renowned French painters, but some of the most famous include:\\n\\n1. Leonardo da Vinci: Although he was Italian, da Vinci spent many years in France and painted some of his most famous works, such as the Mona Lisa, while living in the country.\\n2. Claude Monet: Monet is known for his impressionist paintings, particularly his series of water lilies and the Japanese footbridge from his garden at Giverny.\\n3. Pierre-Auguste Renoir: Renoir was a leading figure in the development of impressionism, and his paintings often depicted everyday life and leisure activities.\\n4. Edgar Degas: Degas is known for his paintings of dancers, horses, and other subjects, and is considered one of the founders of impressionism.\\n5. Paul Cézanne: Cézanne was a post-impressionist painter who is known for his bold, colorful still life paintings and landscapes.\\n6. Henri Matisse: Matisse was a leading figure in the development of modern art, and his paintings often featured bold, vibrant colors and simple forms.\\n7. Pablo Picasso: Although he was Spanish, Picasso spent much of his life in France and was a key figure in the development of cubism, a style of art that emphasizes geometric forms and fragmented images.\\n8. Jean-Michel Basquiat: Basquiat was an American artist who became famous in the 1980s for his raw, expressive paintings that often incorporated elements of graffiti and hip-hop culture.\\n9. Marc Chagall: Chagall was a Russian-born artist who lived in France for much of his life and is known for his dreamlike, fantastical paintings that often feature floating figures and animals.\\n10. Salvador Dalí: Dalí was a Spanish surrealist artist who lived in France for part of his life and is known for his bizarre, dreamlike paintings that often feature melting clocks and other unusual images.\\n\\nOf course, this is not an exhaustive list, and there are many other renowned French painters, but these are some of the most well-known.', role='assistant'))], created=759375, model=None, object='chat.completion', system_fingerprint=None, usage=Usage(completion_tokens=491, prompt_tokens=17, total_tokens=508)), model=None\n\nDuring handling of the above exception, another exception occurred:\n\nTraceback (most recent call last):\n  File \"/anaconda/envs/azureml_py310_sdkv2/lib/python3.10/threading.py\", line 1016, in _bootstrap_inner\n"
        }
      ],
      "execution_count": 6,
      "metadata": {
        "name": "chat_invoke",
        "gather": {
          "logged": 1709291360575
        },
        "jupyter": {
          "outputs_hidden": true
        }
      }
    },
    {
      "cell_type": "markdown",
      "source": [
        "The generated text can be accessed as follows:"
      ],
      "metadata": {}
    },
    {
      "cell_type": "code",
      "source": [
        "print(response.choices[0].message.content)"
      ],
      "outputs": [
        {
          "output_type": "stream",
          "name": "stderr",
          "text": "    self.run()\n  File \"/anaconda/envs/azureml_py310_sdkv2/lib/python3.10/threading.py\", line 953, in run\n    self._target(*self._args, **self._kwargs)\n  File \"/anaconda/envs/azureml_py310_sdkv2/lib/python3.10/site-packages/litellm/utils.py\", line 1181, in success_handler\n    start_time, end_time, result = self._success_handler_helper_fn(\n  File \"/anaconda/envs/azureml_py310_sdkv2/lib/python3.10/site-packages/litellm/utils.py\", line 1175, in _success_handler_helper_fn\n    raise Exception(f\"[Non-Blocking] LiteLLM.Success_Call Error: {str(e)}\")\nException: [Non-Blocking] LiteLLM.Success_Call Error: Model is None and does not exist in passed completion_response. Passed completion_response=ModelResponse(id='40eba3a2-e6a6-4d3b-853e-9280cb21bec3', choices=[Choices(finish_reason='stop', index=0, message=Message(content='  There are many renowned French painters, but some of the most famous include:\\n\\n1. Leonardo da Vinci: Although he was Italian, da Vinci spent many years in France and painted some of his most famous works, such as the Mona Lisa, while living in the country.\\n2. Claude Monet: Monet is known for his impressionist paintings, particularly his series of water lilies and the Japanese footbridge from his garden at Giverny.\\n3. Pierre-Auguste Renoir: Renoir was a leading figure in the development of impressionism, and his paintings often depicted everyday life and leisure activities.\\n4. Edgar Degas: Degas is known for his paintings of dancers, horses, and other subjects, and is considered one of the founders of impressionism.\\n5. Paul Cézanne: Cézanne was a post-impressionist painter who is known for his bold, colorful still life paintings and landscapes.\\n6. Henri Matisse: Matisse was a leading figure in the development of modern art, and his paintings often featured bold, vibrant colors and simple forms.\\n7. Pablo Picasso: Although he was Spanish, Picasso spent much of his life in France and was a key figure in the development of cubism, a style of art that emphasizes geometric forms and fragmented images.\\n8. Jean-Michel Basquiat: Basquiat was an American artist who became famous in the 1980s for his raw, expressive paintings that often incorporated elements of graffiti and hip-hop culture.\\n9. Marc Chagall: Chagall was a Russian-born artist who lived in France for much of his life and is known for his dreamlike, fantastical paintings that often feature floating figures and animals.\\n10. Salvador Dalí: Dalí was a Spanish surrealist artist who lived in France for part of his life and is known for his bizarre, dreamlike paintings that often feature melting clocks and other unusual images.\\n\\nOf course, this is not an exhaustive list, and there are many other renowned French painters, but these are some of the most well-known.', role='assistant'))], created=759375, model=None, object='chat.completion', system_fingerprint=None, usage=Usage(completion_tokens=491, prompt_tokens=17, total_tokens=508)), model=None\n"
        },
        
      ],
      "execution_count": 7,
      "metadata": {
        "name": "chat_response",
        "gather": {
          "logged": 1709291361049
        },
        "jupyter": {
          "outputs_hidden": true
        }
      }
    },
    {
      "cell_type": "markdown",
      "source": [],
      "metadata": {}
    }
  ],
  "metadata": {
    "kernelspec": {
      "name": "python310-sdkv2",
      "language": "python",
      "display_name": "Python 3.10 - SDK v2"
    },
    "language_info": {
      "name": "python",
      "version": "3.10.11",
      "mimetype": "text/x-python",
      "codemirror_mode": {
        "name": "ipython",
        "version": 3
      },
      "pygments_lexer": "ipython3",
      "nbconvert_exporter": "python",
      "file_extension": ".py"
    },
    "microsoft": {
      "ms_spell_check": {
        "ms_spell_check_language": "en"
      },
      "host": {
        "AzureML": {
          "notebookHasBeenCompleted": true
        }
      }
    },
    "kernel_info": {
      "name": "python310-sdkv2"
    },
    "nteract": {
      "version": "nteract-front-end@1.0.0"
    }
  },
  "nbformat": 4,
  "nbformat_minor": 2
}
