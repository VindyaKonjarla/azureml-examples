{
  "cells": [
    {
      "cell_type": "markdown",
      "source": [
        "### Configure Credentials"
      ],
      "metadata": {
        "nteract": {
          "transient": {
            "deleting": false
          }
        }
      }
    },
    {
      "cell_type": "code",
      "source": [
        "from dotenv import dotenv_values\n",
        "config = dotenv_values(\"mistral.env\") \n",
        "config=dict(config)"
      ],
      "outputs": [],
      "execution_count": 7,
      "metadata": {
        "jupyter": {
          "source_hidden": false,
          "outputs_hidden": false
        },
        "nteract": {
          "transient": {
            "deleting": false
          }
        },
        "gather": {
          "logged": 1709337625445
        }
      }
    },
    {
      "cell_type": "markdown",
      "source": [
        "### Libraries"
      ],
      "metadata": {
        "nteract": {
          "transient": {
            "deleting": false
          }
        }
      }
    },
    {
      "cell_type": "code",
      "source": [
        "%pip install langchain langchain_mistralai"
      ],
      "outputs": [
        {
          "output_type": "stream",
          "name": "stdout",
          "text": "Requirement already satisfied: langchain in /anaconda/envs/azureml_py310_sdkv2/lib/python3.10/site-packages (0.1.9)\nRequirement already satisfied: langchain_mistralai in /anaconda/envs/azureml_py310_sdkv2/lib/python3.10/site-packages (0.0.5)\nRequirement already satisfied: PyYAML>=5.3 in /anaconda/envs/azureml_py310_sdkv2/lib/python3.10/site-packages (from langchain) (6.0)\nRequirement already satisfied: SQLAlchemy<3,>=1.4 in /anaconda/envs/azureml_py310_sdkv2/lib/python3.10/site-packages (from langchain) (2.0.16)\nRequirement already satisfied: aiohttp<4.0.0,>=3.8.3 in /anaconda/envs/azureml_py310_sdkv2/lib/python3.10/site-packages (from langchain) (3.9.3)\nRequirement already satisfied: async-timeout<5.0.0,>=4.0.0 in /anaconda/envs/azureml_py310_sdkv2/lib/python3.10/site-packages (from langchain) (4.0.3)\nRequirement already satisfied: dataclasses-json<0.7,>=0.5.7 in /anaconda/envs/azureml_py310_sdkv2/lib/python3.10/site-packages (from langchain) (0.6.4)\nRequirement already satisfied: jsonpatch<2.0,>=1.33 in /anaconda/envs/azureml_py310_sdkv2/lib/python3.10/site-packages (from langchain) (1.33)\nRequirement already satisfied: langchain-community<0.1,>=0.0.21 in /anaconda/envs/azureml_py310_sdkv2/lib/python3.10/site-packages (from langchain) (0.0.24)\nRequirement already satisfied: langchain-core<0.2,>=0.1.26 in /anaconda/envs/azureml_py310_sdkv2/lib/python3.10/site-packages (from langchain) (0.1.28)\nRequirement already satisfied: langsmith<0.2.0,>=0.1.0 in /anaconda/envs/azureml_py310_sdkv2/lib/python3.10/site-packages (from langchain) (0.1.10)\nRequirement already satisfied: numpy<2,>=1 in /anaconda/envs/azureml_py310_sdkv2/lib/python3.10/site-packages (from langchain) (1.25.0)\nRequirement already satisfied: pydantic<3,>=1 in /anaconda/envs/azureml_py310_sdkv2/lib/python3.10/site-packages (from langchain) (2.6.1)\nRequirement already satisfied: requests<3,>=2 in /anaconda/envs/azureml_py310_sdkv2/lib/python3.10/site-packages (from langchain) (2.31.0)\nRequirement already satisfied: tenacity<9.0.0,>=8.1.0 in /anaconda/envs/azureml_py310_sdkv2/lib/python3.10/site-packages (from langchain) (8.2.3)\nRequirement already satisfied: mistralai<0.2,>=0.1 in /anaconda/envs/azureml_py310_sdkv2/lib/python3.10/site-packages (from langchain_mistralai) (0.1.3)\nRequirement already satisfied: tokenizers<0.16.0,>=0.15.1 in /anaconda/envs/azureml_py310_sdkv2/lib/python3.10/site-packages (from langchain_mistralai) (0.15.2)\nRequirement already satisfied: aiosignal>=1.1.2 in /anaconda/envs/azureml_py310_sdkv2/lib/python3.10/site-packages (from aiohttp<4.0.0,>=3.8.3->langchain) (1.3.1)\nRequirement already satisfied: attrs>=17.3.0 in /anaconda/envs/azureml_py310_sdkv2/lib/python3.10/site-packages (from aiohttp<4.0.0,>=3.8.3->langchain) (23.1.0)\nRequirement already satisfied: frozenlist>=1.1.1 in /anaconda/envs/azureml_py310_sdkv2/lib/python3.10/site-packages (from aiohttp<4.0.0,>=3.8.3->langchain) (1.3.3)\nRequirement already satisfied: multidict<7.0,>=4.5 in /anaconda/envs/azureml_py310_sdkv2/lib/python3.10/site-packages (from aiohttp<4.0.0,>=3.8.3->langchain) (6.0.5)\nRequirement already satisfied: yarl<2.0,>=1.0 in /anaconda/envs/azureml_py310_sdkv2/lib/python3.10/site-packages (from aiohttp<4.0.0,>=3.8.3->langchain) (1.9.4)\nRequirement already satisfied: marshmallow<4.0.0,>=3.18.0 in /anaconda/envs/azureml_py310_sdkv2/lib/python3.10/site-packages (from dataclasses-json<0.7,>=0.5.7->langchain) (3.19.0)\nRequirement already satisfied: typing-inspect<1,>=0.4.0 in /anaconda/envs/azureml_py310_sdkv2/lib/python3.10/site-packages (from dataclasses-json<0.7,>=0.5.7->langchain) (0.9.0)\nRequirement already satisfied: jsonpointer>=1.9 in /anaconda/envs/azureml_py310_sdkv2/lib/python3.10/site-packages (from jsonpatch<2.0,>=1.33->langchain) (2.4)\nRequirement already satisfied: anyio<5,>=3 in /anaconda/envs/azureml_py310_sdkv2/lib/python3.10/site-packages (from langchain-core<0.2,>=0.1.26->langchain) (4.2.0)\nRequirement already satisfied: packaging<24.0,>=23.2 in /anaconda/envs/azureml_py310_sdkv2/lib/python3.10/site-packages (from langchain-core<0.2,>=0.1.26->langchain) (23.2)\nRequirement already satisfied: orjson<4.0.0,>=3.9.14 in /anaconda/envs/azureml_py310_sdkv2/lib/python3.10/site-packages (from langsmith<0.2.0,>=0.1.0->langchain) (3.9.15)\nRequirement already satisfied: httpx<0.26.0,>=0.25.2 in /anaconda/envs/azureml_py310_sdkv2/lib/python3.10/site-packages (from mistralai<0.2,>=0.1->langchain_mistralai) (0.25.2)\nRequirement already satisfied: pandas<3.0.0,>=2.2.0 in /anaconda/envs/azureml_py310_sdkv2/lib/python3.10/site-packages (from mistralai<0.2,>=0.1->langchain_mistralai) (2.2.1)\nRequirement already satisfied: pyarrow<16.0.0,>=15.0.0 in /anaconda/envs/azureml_py310_sdkv2/lib/python3.10/site-packages (from mistralai<0.2,>=0.1->langchain_mistralai) (15.0.0)\nRequirement already satisfied: annotated-types>=0.4.0 in /anaconda/envs/azureml_py310_sdkv2/lib/python3.10/site-packages (from pydantic<3,>=1->langchain) (0.6.0)\nRequirement already satisfied: pydantic-core==2.16.2 in /anaconda/envs/azureml_py310_sdkv2/lib/python3.10/site-packages (from pydantic<3,>=1->langchain) (2.16.2)\nRequirement already satisfied: typing-extensions>=4.6.1 in /anaconda/envs/azureml_py310_sdkv2/lib/python3.10/site-packages (from pydantic<3,>=1->langchain) (4.9.0)\nRequirement already satisfied: charset-normalizer<4,>=2 in /anaconda/envs/azureml_py310_sdkv2/lib/python3.10/site-packages (from requests<3,>=2->langchain) (3.1.0)\nRequirement already satisfied: idna<4,>=2.5 in /anaconda/envs/azureml_py310_sdkv2/lib/python3.10/site-packages (from requests<3,>=2->langchain) (3.4)\nRequirement already satisfied: urllib3<3,>=1.21.1 in /anaconda/envs/azureml_py310_sdkv2/lib/python3.10/site-packages (from requests<3,>=2->langchain) (1.26.16)\nRequirement already satisfied: certifi>=2017.4.17 in /anaconda/envs/azureml_py310_sdkv2/lib/python3.10/site-packages (from requests<3,>=2->langchain) (2023.5.7)\nRequirement already satisfied: greenlet!=0.4.17 in /anaconda/envs/azureml_py310_sdkv2/lib/python3.10/site-packages (from SQLAlchemy<3,>=1.4->langchain) (2.0.2)\nRequirement already satisfied: huggingface_hub<1.0,>=0.16.4 in /anaconda/envs/azureml_py310_sdkv2/lib/python3.10/site-packages (from tokenizers<0.16.0,>=0.15.1->langchain_mistralai) (0.20.3)\nRequirement already satisfied: sniffio>=1.1 in /anaconda/envs/azureml_py310_sdkv2/lib/python3.10/site-packages (from anyio<5,>=3->langchain-core<0.2,>=0.1.26->langchain) (1.3.0)\nRequirement already satisfied: exceptiongroup>=1.0.2 in /anaconda/envs/azureml_py310_sdkv2/lib/python3.10/site-packages (from anyio<5,>=3->langchain-core<0.2,>=0.1.26->langchain) (1.2.0)\nRequirement already satisfied: httpcore==1.* in /anaconda/envs/azureml_py310_sdkv2/lib/python3.10/site-packages (from httpx<0.26.0,>=0.25.2->mistralai<0.2,>=0.1->langchain_mistralai) (1.0.3)\nRequirement already satisfied: h11<0.15,>=0.13 in /anaconda/envs/azureml_py310_sdkv2/lib/python3.10/site-packages (from httpcore==1.*->httpx<0.26.0,>=0.25.2->mistralai<0.2,>=0.1->langchain_mistralai) (0.14.0)\nRequirement already satisfied: filelock in /anaconda/envs/azureml_py310_sdkv2/lib/python3.10/site-packages (from huggingface_hub<1.0,>=0.16.4->tokenizers<0.16.0,>=0.15.1->langchain_mistralai) (3.12.2)\nRequirement already satisfied: fsspec>=2023.5.0 in /anaconda/envs/azureml_py310_sdkv2/lib/python3.10/site-packages (from huggingface_hub<1.0,>=0.16.4->tokenizers<0.16.0,>=0.15.1->langchain_mistralai) (2023.6.0)\nRequirement already satisfied: tqdm>=4.42.1 in /anaconda/envs/azureml_py310_sdkv2/lib/python3.10/site-packages (from huggingface_hub<1.0,>=0.16.4->tokenizers<0.16.0,>=0.15.1->langchain_mistralai) (4.65.0)\nRequirement already satisfied: python-dateutil>=2.8.2 in /anaconda/envs/azureml_py310_sdkv2/lib/python3.10/site-packages (from pandas<3.0.0,>=2.2.0->mistralai<0.2,>=0.1->langchain_mistralai) (2.8.2)\nRequirement already satisfied: pytz>=2020.1 in /anaconda/envs/azureml_py310_sdkv2/lib/python3.10/site-packages (from pandas<3.0.0,>=2.2.0->mistralai<0.2,>=0.1->langchain_mistralai) (2023.3)\nRequirement already satisfied: tzdata>=2022.7 in /anaconda/envs/azureml_py310_sdkv2/lib/python3.10/site-packages (from pandas<3.0.0,>=2.2.0->mistralai<0.2,>=0.1->langchain_mistralai) (2023.3)\nRequirement already satisfied: mypy-extensions>=0.3.0 in /anaconda/envs/azureml_py310_sdkv2/lib/python3.10/site-packages (from typing-inspect<1,>=0.4.0->dataclasses-json<0.7,>=0.5.7->langchain) (1.0.0)\nRequirement already satisfied: six>=1.5 in /anaconda/envs/azureml_py310_sdkv2/lib/python3.10/site-packages (from python-dateutil>=2.8.2->pandas<3.0.0,>=2.2.0->mistralai<0.2,>=0.1->langchain_mistralai) (1.16.0)\nNote: you may need to restart the kernel to use updated packages.\n"
        }
      ],
      "execution_count": 15,
      "metadata": {
        "jupyter": {
          "source_hidden": false,
          "outputs_hidden": true
        },
        "nteract": {
          "transient": {
            "deleting": false
          }
        }
      }
    },
    {
      "cell_type": "code",
      "source": [
        "from langchain_core.messages import HumanMessage\n",
        "from langchain.chains import LLMChain\n",
        "from langchain.memory import ConversationBufferMemory\n",
        "from langchain.prompts import (\n",
        "    ChatPromptTemplate,\n",
        "    HumanMessagePromptTemplate,\n",
        "    MessagesPlaceholder,\n",
        ")\n",
        "from langchain.schema import SystemMessage\n",
        "from langchain_mistralai.chat_models import ChatMistralAI"
      ],
      "outputs": [],
      "execution_count": 11,
      "metadata": {
        "jupyter": {
          "source_hidden": false,
          "outputs_hidden": false
        },
        "nteract": {
          "transient": {
            "deleting": false
          }
        },
        "gather": {
          "logged": 1709340068213
        }
      }
    },
    {
      "cell_type": "markdown",
      "source": [
        "### Pass the Prompt"
      ],
      "metadata": {
        "nteract": {
          "transient": {
            "deleting": false
          }
        }
      }
    },
    {
      "cell_type": "code",
      "source": [
        "prompt = ChatPromptTemplate.from_messages(\n",
        "    [\n",
        "        SystemMessage(\n",
        "            content=\"You are a chatbot having a conversation with a human. Give me restaurant name related to cusine.\"\n",
        "        ),\n",
        "        #MessagesPlaceholder(variable_name=\"chat_history\"),\n",
        "        HumanMessagePromptTemplate.from_template(\"{human_input}\"),\n",
        "    ]\n",
        ")\n",
        "\n",
        "memory = ConversationBufferMemory(memory_key=\"chat_history\", return_messages=True)"
      ],
      "outputs": [],
      "execution_count": 24,
      "metadata": {
        "jupyter": {
          "source_hidden": false,
          "outputs_hidden": false
        },
        "nteract": {
          "transient": {
            "deleting": false
          }
        },
        "gather": {
          "logged": 1709342640759
        }
      }
    },
    {
      "cell_type": "markdown",
      "source": [
        "### Call the credentials"
      ],
      "metadata": {
        "nteract": {
          "transient": {
            "deleting": false
          }
        }
      }
    },
    {
      "cell_type": "code",
      "source": [
        "chat_model = ChatMistralAI(\n",
        "    endpoint=config[\"endpoint\"],\n",
        "    mistral_api_key=config[\"key\"],\n",
        ")"
      ],
      "outputs": [],
      "execution_count": 16,
      "metadata": {
        "jupyter": {
          "source_hidden": false,
          "outputs_hidden": false
        },
        "nteract": {
          "transient": {
            "deleting": false
          }
        },
        "gather": {
          "logged": 1709341931755
        }
      }
    },
    {
      "cell_type": "markdown",
      "source": [
        "### Call the langchain"
      ],
      "metadata": {
        "nteract": {
          "transient": {
            "deleting": false
          }
        }
      }
    },
    {
      "cell_type": "code",
      "source": [
        "chat_llm_chain = LLMChain(\n",
        "    llm=chat_model,\n",
        "    prompt=prompt,\n",
        "    #memory=memory,\n",
        "    verbose=True,\n",
        ")"
      ],
      "outputs": [],
      "execution_count": 25,
      "metadata": {
        "jupyter": {
          "source_hidden": false,
          "outputs_hidden": false
        },
        "nteract": {
          "transient": {
            "deleting": false
          }
        },
        "gather": {
          "logged": 1709342649341
        }
      }
    },
    {
      "cell_type": "code",
      "source": [
        "chat_llm_chain.predict(human_input=\"indian\")"
      ],
      "outputs": [
        {
          "output_type": "stream",
          "name": "stdout",
          "text": "\n\n\u001b[1m> Entering new LLMChain chain...\u001b[0m\nPrompt after formatting:\n\u001b[32;1m\u001b[1;3mSystem: You are a chatbot having a conversation with a human. Give me restaurant name related to cusine.\nHuman: indian\u001b[0m\n\n\u001b[1m> Finished chain.\u001b[0m\n"
        },
        {
          "output_type": "execute_result",
          "execution_count": 26,
          "data": {
            "text/plain": "\" Sure, here are a few Indian restaurant names you might like:\\n\\n1. Taj Mahal Restaurant\\n2. Curry Leaf Cafe\\n3. Spice Route\\n4. Bombay Brasserie\\n5. The Mughal's Indian Restaurant\\n6. Tandoori Nights\\n7. Namaste India\\n8. Chutney Mary\\n9. Dishoom\\n10. Masala Zone\\n\\nDo you have a specific location in mind or any other preferences for the restaurant?\""
          },
          "metadata": {}
        }
      ],
      "execution_count": 26,
      "metadata": {
        "jupyter": {
          "source_hidden": false,
          "outputs_hidden": false
        },
        "nteract": {
          "transient": {
            "deleting": false
          }
        },
        "gather": {
          "logged": 1709342660832
        }
      }
    }
  ],
  "metadata": {
    "kernelspec": {
      "name": "python310-sdkv2",
      "language": "python",
      "display_name": "Python 3.10 - SDK v2"
    },
    "language_info": {
      "name": "python",
      "version": "3.10.11",
      "mimetype": "text/x-python",
      "codemirror_mode": {
        "name": "ipython",
        "version": 3
      },
      "pygments_lexer": "ipython3",
      "nbconvert_exporter": "python",
      "file_extension": ".py"
    },
    "microsoft": {
      "ms_spell_check": {
        "ms_spell_check_language": "en"
      },
      "host": {
        "AzureML": {
          "notebookHasBeenCompleted": true
        }
      }
    },
    "kernel_info": {
      "name": "python310-sdkv2"
    },
    "nteract": {
      "version": "nteract-front-end@1.0.0"
    }
  },
  "nbformat": 4,
  "nbformat_minor": 2
}