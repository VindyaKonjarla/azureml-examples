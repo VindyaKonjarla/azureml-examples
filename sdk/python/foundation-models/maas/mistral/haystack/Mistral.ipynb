{
  "cells": [
    {
      "cell_type": "code",
      "execution_count": null,
      "metadata": {},
      "outputs": [],
      "source": [
        "%pip install haystack-ai"
      ]
    },
    {
      "cell_type": "code",
      "execution_count": null,
      "metadata": {
        "gather": {
          "logged": 1710747555829
        },
        "jupyter": {
          "outputs_hidden": false,
          "source_hidden": false
        },
        "nteract": {
          "transient": {
            "deleting": false
          }
        }
      },
      "outputs": [],
      "source": [
        "import os\n",
        "from haystack.utils import Secret"
      ]
    },
    {
      "cell_type": "code",
      "execution_count": null,
      "metadata": {
        "gather": {
          "logged": 1710747611907
        },
        "jupyter": {
          "outputs_hidden": false,
          "source_hidden": false
        },
        "nteract": {
          "transient": {
            "deleting": false
          }
        }
      },
      "outputs": [],
      "source": [
        "# Mistral text_generation model\n",
        "from haystack.components.generators import OpenAIGenerator\n",
        "\n",
        "os.environ[\"OPENAI_API_KEY\"] = \"YOUR_AZUREAI_API_KEY\"\n",
        "\n",
        "client = OpenAIGenerator(\n",
        "    api_key=Secret.from_env_var(\"OPENAI_API_KEY\"),\n",
        "    api_base_url = \"YOUR_AZUREAI_API_URL\"\n",
        "    )"
      ]
    },
    {
      "cell_type": "code",
      "execution_count": 4,
      "metadata": {
        "gather": {
          "logged": 1710747650833
        },
        "jupyter": {
          "outputs_hidden": false,
          "source_hidden": false
        },
        "nteract": {
          "transient": {
            "deleting": false
          }
        }
      },
      "outputs": [
        {
          "name": "stdout",
          "output_type": "stream",
          "text": [
            "{'replies': [' The innings you\\'re referring to is one of the most famous in Sachin Tendulkar\\'s career, often referred to as the \"Desert Storm\" innings. This was during a One Day International (ODI) match against Australia in the Coca-Cola Cup on April 22, 1998, in Sharjah, United Arab Emirates.\\n\\nIn this match, Tendulkar scored a blistering 143 runs off just 131 balls, in extremely hot and sandy conditions, hence the name \"Desert Storm\". His innings included 13 fours and 2 sixes. This performance is particularly memorable because it came against a strong Australian team, which included legends like Shane Warne and Glenn McGrath. Tendulkar\\'s knock helped India chase down a target of 285 with 3 balls to spare.'], 'meta': [{'model': 'mistral-large', 'index': 0, 'finish_reason': 'stop', 'usage': {'completion_tokens': 198, 'prompt_tokens': 21, 'total_tokens': 219}}]}\n"
          ]
        }
      ],
      "source": [
        "response = client.run(\"Tell me the innings of Sachin Tendulkar which is called The desert storm\")\n",
        "print(response)"
      ]
    },
    {
      "cell_type": "code",
      "execution_count": null,
      "metadata": {
        "jupyter": {
          "outputs_hidden": false,
          "source_hidden": false
        },
        "nteract": {
          "transient": {
            "deleting": false
          }
        }
      },
      "outputs": [],
      "source": []
    }
  ],
  "metadata": {
    "kernel_info": {
      "name": "python310-sdkv2"
    },
    "kernelspec": {
      "display_name": "Python 3.10 - SDK v2",
      "language": "python",
      "name": "python310-sdkv2"
    },
    "language_info": {
      "codemirror_mode": {
        "name": "ipython",
        "version": 3
      },
      "file_extension": ".py",
      "mimetype": "text/x-python",
      "name": "python",
      "nbconvert_exporter": "python",
      "pygments_lexer": "ipython3",
      "version": "3.10.11"
    },
    "microsoft": {
      "host": {
        "AzureML": {
          "notebookHasBeenCompleted": true
        }
      },
      "ms_spell_check": {
        "ms_spell_check_language": "en"
      }
    },
    "nteract": {
      "version": "nteract-front-end@1.0.0"
    }
  },
  "nbformat": 4,
  "nbformat_minor": 2
}
