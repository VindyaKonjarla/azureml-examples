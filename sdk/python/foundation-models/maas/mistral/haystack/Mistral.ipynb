{
  "cells": [
    {
      "cell_type": "code",
      "source": [
        "%pip install haystack-ai"
      ],
      "outputs": [
        {
          "output_type": "stream",
          "name": "stdout",
          "text": "Requirement already satisfied: haystack-ai in /anaconda/envs/azureml_py310_sdkv2/lib/python3.10/site-packages (2.0.0b8)\nRequirement already satisfied: boilerpy3 in /anaconda/envs/azureml_py310_sdkv2/lib/python3.10/site-packages (from haystack-ai) (1.0.7)\nRequirement already satisfied: haystack-bm25 in /anaconda/envs/azureml_py310_sdkv2/lib/python3.10/site-packages (from haystack-ai) (1.0.2)\nRequirement already satisfied: jinja2 in /anaconda/envs/azureml_py310_sdkv2/lib/python3.10/site-packages (from haystack-ai) (3.1.2)\nRequirement already satisfied: lazy-imports in /anaconda/envs/azureml_py310_sdkv2/lib/python3.10/site-packages (from haystack-ai) (0.3.1)\nRequirement already satisfied: more-itertools in /anaconda/envs/azureml_py310_sdkv2/lib/python3.10/site-packages (from haystack-ai) (10.2.0)\nRequirement already satisfied: networkx in /anaconda/envs/azureml_py310_sdkv2/lib/python3.10/site-packages (from haystack-ai) (3.1)\nRequirement already satisfied: openai>=1.1.0 in /anaconda/envs/azureml_py310_sdkv2/lib/python3.10/site-packages (from haystack-ai) (1.13.3)\nRequirement already satisfied: pandas in /anaconda/envs/azureml_py310_sdkv2/lib/python3.10/site-packages (from haystack-ai) (2.0.2)\nRequirement already satisfied: posthog in /anaconda/envs/azureml_py310_sdkv2/lib/python3.10/site-packages (from haystack-ai) (3.5.0)\nRequirement already satisfied: pyyaml in /anaconda/envs/azureml_py310_sdkv2/lib/python3.10/site-packages (from haystack-ai) (6.0)\nRequirement already satisfied: tenacity in /anaconda/envs/azureml_py310_sdkv2/lib/python3.10/site-packages (from haystack-ai) (8.2.3)\nRequirement already satisfied: tqdm in /anaconda/envs/azureml_py310_sdkv2/lib/python3.10/site-packages (from haystack-ai) (4.65.0)\nRequirement already satisfied: typing-extensions in /anaconda/envs/azureml_py310_sdkv2/lib/python3.10/site-packages (from haystack-ai) (4.10.0)\nRequirement already satisfied: anyio<5,>=3.5.0 in /anaconda/envs/azureml_py310_sdkv2/lib/python3.10/site-packages (from openai>=1.1.0->haystack-ai) (4.3.0)\nRequirement already satisfied: distro<2,>=1.7.0 in /anaconda/envs/azureml_py310_sdkv2/lib/python3.10/site-packages (from openai>=1.1.0->haystack-ai) (1.8.0)\nRequirement already satisfied: httpx<1,>=0.23.0 in /anaconda/envs/azureml_py310_sdkv2/lib/python3.10/site-packages (from openai>=1.1.0->haystack-ai) (0.27.0)\nRequirement already satisfied: pydantic<3,>=1.9.0 in /anaconda/envs/azureml_py310_sdkv2/lib/python3.10/site-packages (from openai>=1.1.0->haystack-ai) (2.6.3)\nRequirement already satisfied: sniffio in /anaconda/envs/azureml_py310_sdkv2/lib/python3.10/site-packages (from openai>=1.1.0->haystack-ai) (1.3.1)\nRequirement already satisfied: numpy in /anaconda/envs/azureml_py310_sdkv2/lib/python3.10/site-packages (from haystack-bm25->haystack-ai) (1.25.0)\nRequirement already satisfied: MarkupSafe>=2.0 in /anaconda/envs/azureml_py310_sdkv2/lib/python3.10/site-packages (from jinja2->haystack-ai) (2.1.3)\nRequirement already satisfied: python-dateutil>=2.8.2 in /anaconda/envs/azureml_py310_sdkv2/lib/python3.10/site-packages (from pandas->haystack-ai) (2.8.2)\nRequirement already satisfied: pytz>=2020.1 in /anaconda/envs/azureml_py310_sdkv2/lib/python3.10/site-packages (from pandas->haystack-ai) (2023.3)\nRequirement already satisfied: tzdata>=2022.1 in /anaconda/envs/azureml_py310_sdkv2/lib/python3.10/site-packages (from pandas->haystack-ai) (2023.3)\nRequirement already satisfied: requests<3.0,>=2.7 in /anaconda/envs/azureml_py310_sdkv2/lib/python3.10/site-packages (from posthog->haystack-ai) (2.31.0)\nRequirement already satisfied: six>=1.5 in /anaconda/envs/azureml_py310_sdkv2/lib/python3.10/site-packages (from posthog->haystack-ai) (1.16.0)\nRequirement already satisfied: monotonic>=1.5 in /anaconda/envs/azureml_py310_sdkv2/lib/python3.10/site-packages (from posthog->haystack-ai) (1.6)\nRequirement already satisfied: backoff>=1.10.0 in /anaconda/envs/azureml_py310_sdkv2/lib/python3.10/site-packages (from posthog->haystack-ai) (2.2.1)\nRequirement already satisfied: idna>=2.8 in /anaconda/envs/azureml_py310_sdkv2/lib/python3.10/site-packages (from anyio<5,>=3.5.0->openai>=1.1.0->haystack-ai) (3.4)\nRequirement already satisfied: exceptiongroup>=1.0.2 in /anaconda/envs/azureml_py310_sdkv2/lib/python3.10/site-packages (from anyio<5,>=3.5.0->openai>=1.1.0->haystack-ai) (1.2.0)\nRequirement already satisfied: certifi in /anaconda/envs/azureml_py310_sdkv2/lib/python3.10/site-packages (from httpx<1,>=0.23.0->openai>=1.1.0->haystack-ai) (2023.5.7)\nRequirement already satisfied: httpcore==1.* in /anaconda/envs/azureml_py310_sdkv2/lib/python3.10/site-packages (from httpx<1,>=0.23.0->openai>=1.1.0->haystack-ai) (1.0.4)\nRequirement already satisfied: h11<0.15,>=0.13 in /anaconda/envs/azureml_py310_sdkv2/lib/python3.10/site-packages (from httpcore==1.*->httpx<1,>=0.23.0->openai>=1.1.0->haystack-ai) (0.14.0)\nRequirement already satisfied: annotated-types>=0.4.0 in /anaconda/envs/azureml_py310_sdkv2/lib/python3.10/site-packages (from pydantic<3,>=1.9.0->openai>=1.1.0->haystack-ai) (0.6.0)\nRequirement already satisfied: pydantic-core==2.16.3 in /anaconda/envs/azureml_py310_sdkv2/lib/python3.10/site-packages (from pydantic<3,>=1.9.0->openai>=1.1.0->haystack-ai) (2.16.3)\nRequirement already satisfied: charset-normalizer<4,>=2 in /anaconda/envs/azureml_py310_sdkv2/lib/python3.10/site-packages (from requests<3.0,>=2.7->posthog->haystack-ai) (3.1.0)\nRequirement already satisfied: urllib3<3,>=1.21.1 in /anaconda/envs/azureml_py310_sdkv2/lib/python3.10/site-packages (from requests<3.0,>=2.7->posthog->haystack-ai) (1.26.16)\nNote: you may need to restart the kernel to use updated packages.\n"
        }
      ],
      "execution_count": 1,
      "metadata": {}
    },
    {
      "cell_type": "code",
      "source": [
        "import os\n",
        "from haystack.utils import Secret"
      ],
      "outputs": [
        {
          "output_type": "stream",
          "name": "stderr",
          "text": "/anaconda/envs/azureml_py310_sdkv2/lib/python3.10/site-packages/tqdm/auto.py:21: TqdmWarning: IProgress not found. Please update jupyter and ipywidgets. See https://ipywidgets.readthedocs.io/en/stable/user_install.html\n  from .autonotebook import tqdm as notebook_tqdm\n/anaconda/envs/azureml_py310_sdkv2/lib/python3.10/site-packages/torch/cuda/__init__.py:138: UserWarning: CUDA initialization: The NVIDIA driver on your system is too old (found version 11040). Please update your GPU driver by downloading and installing a new version from the URL: http://www.nvidia.com/Download/index.aspx Alternatively, go to: https://pytorch.org to install a PyTorch version that has been compiled with your version of the CUDA driver. (Triggered internally at ../c10/cuda/CUDAFunctions.cpp:108.)\n  return torch._C._cuda_getDeviceCount() > 0\n"
        }
      ],
      "execution_count": 2,
      "metadata": {
        "jupyter": {
          "source_hidden": false,
          "outputs_hidden": false
        },
        "nteract": {
          "transient": {
            "deleting": false
          }
        },
        "gather": {
          "logged": 1710747555829
        }
      }
    },
    {
      "cell_type": "code",
      "source": [
        "# Mistral text_generation model\n",
        "from haystack.components.generators import OpenAIGenerator\n",
        "\n",
        "os.environ[\"OPENAI_API_KEY\"] = \"YOUR_AZUREAI_API_KEY\"\n",
        "\n",
        "client = OpenAIGenerator(\n",
        "    api_key=Secret.from_env_var(\"OPENAI_API_KEY\"),\n",
        "    api_base_url = \"YOUR_AZUREAI_API_URL\"\n",
        "    )"
      ],
      "outputs": [
        {
          "output_type": "stream",
          "name": "stderr",
          "text": "/anaconda/envs/azureml_py310_sdkv2/lib/python3.10/site-packages/torch/cuda/__init__.py:611: UserWarning: Can't initialize NVML\n  warnings.warn(\"Can't initialize NVML\")\n"
        }
      ],
      "execution_count": 3,
      "metadata": {
        "jupyter": {
          "source_hidden": false,
          "outputs_hidden": false
        },
        "nteract": {
          "transient": {
            "deleting": false
          }
        },
        "gather": {
          "logged": 1710747611907
        }
      }
    },
    {
      "cell_type": "code",
      "source": [
        "response = client.run(\"Tell me the innings of Sachin Tendulkar which is called The desert storm\")\n",
        "print(response)"
      ],
      "outputs": [
        {
          "output_type": "stream",
          "name": "stdout",
          "text": "{'replies': [' The innings you\\'re referring to is one of the most famous in Sachin Tendulkar\\'s career, often referred to as the \"Desert Storm\" innings. This was during a One Day International (ODI) match against Australia in the Coca-Cola Cup on April 22, 1998, in Sharjah, United Arab Emirates.\\n\\nIn this match, Tendulkar scored a blistering 143 runs off just 131 balls, in extremely hot and sandy conditions, hence the name \"Desert Storm\". His innings included 13 fours and 2 sixes. This performance is particularly memorable because it came against a strong Australian team, which included legends like Shane Warne and Glenn McGrath. Tendulkar\\'s knock helped India chase down a target of 285 with 3 balls to spare.'], 'meta': [{'model': 'mistral-large', 'index': 0, 'finish_reason': 'stop', 'usage': {'completion_tokens': 198, 'prompt_tokens': 21, 'total_tokens': 219}}]}\n"
        }
      ],
      "execution_count": 4,
      "metadata": {
        "jupyter": {
          "source_hidden": false,
          "outputs_hidden": false
        },
        "nteract": {
          "transient": {
            "deleting": false
          }
        },
        "gather": {
          "logged": 1710747650833
        }
      }
    },
    {
      "cell_type": "code",
      "source": [],
      "outputs": [],
      "execution_count": null,
      "metadata": {
        "jupyter": {
          "source_hidden": false,
          "outputs_hidden": false
        },
        "nteract": {
          "transient": {
            "deleting": false
          }
        }
      }
    }
  ],
  "metadata": {
    "kernelspec": {
      "name": "python310-sdkv2",
      "language": "python",
      "display_name": "Python 3.10 - SDK v2"
    },
    "language_info": {
      "name": "python",
      "version": "3.10.11",
      "mimetype": "text/x-python",
      "codemirror_mode": {
        "name": "ipython",
        "version": 3
      },
      "pygments_lexer": "ipython3",
      "nbconvert_exporter": "python",
      "file_extension": ".py"
    },
    "microsoft": {
      "ms_spell_check": {
        "ms_spell_check_language": "en"
      },
      "host": {
        "AzureML": {
          "notebookHasBeenCompleted": true
        }
      }
    },
    "kernel_info": {
      "name": "python310-sdkv2"
    },
    "nteract": {
      "version": "nteract-front-end@1.0.0"
    }
  },
  "nbformat": 4,
  "nbformat_minor": 2
}