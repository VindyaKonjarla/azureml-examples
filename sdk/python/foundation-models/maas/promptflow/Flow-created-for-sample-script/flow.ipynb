{
 "cells": [
  {
   "cell_type": "code",
   "execution_count": 5,
   "metadata": {},
   "outputs": [],
   "source": [
    "from promptflow import PFClient\n",
    "from promptflow.connections import AzureOpenAIConnection\n",
    "pf_client = PFClient()"
   ]
  },
  {
   "cell_type": "code",
   "execution_count": 7,
   "metadata": {},
   "outputs": [],
   "source": [
    "import os\n",
    "from dotenv import load_dotenv\n",
    "load_dotenv()\n",
    "name=os.getenv(\"name\")\n",
    "api_key=os.getenv(\"api_key\")\n",
    "api_base=os.getenv(\"api_base\")\n",
    "api_version=os.getenv(\"api_version\")\n",
    "api_type=os.getenv(\"api_type\")"
   ]
  },
  {
   "cell_type": "code",
   "execution_count": null,
   "metadata": {},
   "outputs": [],
   "source": [
    "connection = AzureOpenAIConnection(\n",
    "    name=name,\n",
    "    api_key=api_key,\n",
    "    api_base=api_base,\n",
    "    api_version=api_version,\n",
    "    api_type=api_type\n",
    ")\n",
    "conn = pf_client.connections.create_or_update(connection)\n",
    "print(conn)"
   ]
  },
  {
   "cell_type": "code",
   "execution_count": 9,
   "metadata": {},
   "outputs": [
    {
     "name": "stdout",
     "output_type": "stream",
     "text": [
      "2024-02-12 09:59:44 +0530   27908 execution.flow     INFO     Start executing nodes in thread pool mode.\n",
      "2024-02-12 09:59:44 +0530   27908 execution.flow     INFO     Start to run 2 nodes with concurrency level 16.\n",
      "2024-02-12 09:59:44 +0530   27908 execution.flow     INFO     Executing node echo. node run id: d4d1a683-7ed4-4786-970c-a99444237b60_echo_0\n",
      "2024-02-12 09:59:44 +0530   27908 execution.flow     INFO     Node echo completes.\n",
      "2024-02-12 09:59:44 +0530   27908 execution.flow     INFO     Executing node joke. node run id: d4d1a683-7ed4-4786-970c-a99444237b60_joke_0\n",
      "2024-02-12 09:59:45 +0530   27908 execution.flow     WARNING  Output of joke is not json serializable, use str to store it.\n",
      "2024-02-12 09:59:45 +0530   27908 execution.flow     INFO     Node joke completes.\n",
      "{'joke': \"Sure, here's a book-related joke for you:\\n\\nWhy don't books like to get into fights?\\n\\nBecause they always end up getting their spine broken and their pages punched!\"}\n"
     ]
    }
   ],
   "source": [
    "flow_path = \"C:/Users/v-priyankaku/Flow-created-for-sample-script\"\n",
    "flow_input = {\"topic\":\"book\"}\n",
    "flow_result = pf_client.test(flow=flow_path,inputs=flow_input)\n",
    "print(flow_result)"
   ]
  }
 ],
 "metadata": {
  "kernelspec": {
   "display_name": "env",
   "language": "python",
   "name": "python3"
  },
  "language_info": {
   "codemirror_mode": {
    "name": "ipython",
    "version": 3
   },
   "file_extension": ".py",
   "mimetype": "text/x-python",
   "name": "python",
   "nbconvert_exporter": "python",
   "pygments_lexer": "ipython3",
   "version": "3.11.3"
  }
 },
 "nbformat": 4,
 "nbformat_minor": 2
}
